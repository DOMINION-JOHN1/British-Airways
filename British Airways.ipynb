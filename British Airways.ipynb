{
 "cells": [
  {
   "cell_type": "code",
   "execution_count": 163,
   "metadata": {
    "collapsed": true,
    "pycharm": {
     "name": "#%%\n"
    }
   },
   "outputs": [],
   "source": [
    "import requests\n",
    "from bs4 import BeautifulSoup\n",
    "import pandas as pd"
   ]
  },
  {
   "cell_type": "code",
   "execution_count": 164,
   "outputs": [
    {
     "name": "stdout",
     "output_type": "stream",
     "text": [
      "Scraping page 1\n",
      "   ---> 100 total reviews\n",
      "Scraping page 2\n",
      "   ---> 200 total reviews\n",
      "Scraping page 3\n",
      "   ---> 300 total reviews\n",
      "Scraping page 4\n",
      "   ---> 400 total reviews\n",
      "Scraping page 5\n",
      "   ---> 500 total reviews\n",
      "Scraping page 6\n",
      "   ---> 600 total reviews\n",
      "Scraping page 7\n",
      "   ---> 700 total reviews\n",
      "Scraping page 8\n",
      "   ---> 800 total reviews\n",
      "Scraping page 9\n",
      "   ---> 900 total reviews\n",
      "Scraping page 10\n",
      "   ---> 1000 total reviews\n"
     ]
    }
   ],
   "source": [
    "base_url = \"https://www.airlinequality.com/airline-reviews/british-airways\"\n",
    "pages = 10\n",
    "page_size = 100\n",
    "\n",
    "reviews = []\n",
    "\n",
    "# for i in range(1, pages + 1):\n",
    "for i in range(1, pages + 1):\n",
    "\n",
    "    print(f\"Scraping page {i}\")\n",
    "\n",
    "    # Create URL to collect links from paginated data\n",
    "    url = f\"{base_url}/page/{i}/?sortby=post_date%3ADesc&pagesize={page_size}\"\n",
    "\n",
    "    # Collect HTML data from this page\n",
    "    response = requests.get(url)\n",
    "\n",
    "    # Parse content\n",
    "    content = response.content\n",
    "    parsed_content = BeautifulSoup(content, 'html.parser')\n",
    "    for para in parsed_content.find_all(\"div\", {\"class\": \"text_content\"}):\n",
    "        reviews.append(para.get_text())\n",
    "\n",
    "    print(f\"   ---> {len(reviews)} total reviews\")"
   ],
   "metadata": {
    "collapsed": false,
    "pycharm": {
     "name": "#%%\n"
    }
   }
  },
  {
   "cell_type": "markdown",
   "source": [],
   "metadata": {
    "collapsed": false,
    "pycharm": {
     "name": "#%% md\n"
    }
   }
  },
  {
   "cell_type": "code",
   "execution_count": 174,
   "outputs": [
    {
     "data": {
      "text/plain": "                                             reviews\n0  Not Verified | I flew with numerous airlines, ...\n1  ✅ Trip Verified |  We were traveling as a fami...\n2  ✅ Trip Verified | Flight at 8.40am from DUB to...\n3  ✅ Trip Verified |  Terrible. I have traveled t...\n4  ✅ Trip Verified |  The customer service is ugl...",
      "text/html": "<div>\n<style scoped>\n    .dataframe tbody tr th:only-of-type {\n        vertical-align: middle;\n    }\n\n    .dataframe tbody tr th {\n        vertical-align: top;\n    }\n\n    .dataframe thead th {\n        text-align: right;\n    }\n</style>\n<table border=\"1\" class=\"dataframe\">\n  <thead>\n    <tr style=\"text-align: right;\">\n      <th></th>\n      <th>reviews</th>\n    </tr>\n  </thead>\n  <tbody>\n    <tr>\n      <th>0</th>\n      <td>Not Verified | I flew with numerous airlines, ...</td>\n    </tr>\n    <tr>\n      <th>1</th>\n      <td>✅ Trip Verified |  We were traveling as a fami...</td>\n    </tr>\n    <tr>\n      <th>2</th>\n      <td>✅ Trip Verified | Flight at 8.40am from DUB to...</td>\n    </tr>\n    <tr>\n      <th>3</th>\n      <td>✅ Trip Verified |  Terrible. I have traveled t...</td>\n    </tr>\n    <tr>\n      <th>4</th>\n      <td>✅ Trip Verified |  The customer service is ugl...</td>\n    </tr>\n  </tbody>\n</table>\n</div>"
     },
     "execution_count": 174,
     "metadata": {},
     "output_type": "execute_result"
    }
   ],
   "source": [
    "df = pd.DataFrame()\n",
    "df[\"reviews\"] = reviews\n",
    "df.head()"
   ],
   "metadata": {
    "collapsed": false,
    "pycharm": {
     "name": "#%%\n"
    }
   }
  },
  {
   "cell_type": "code",
   "execution_count": 175,
   "outputs": [
    {
     "data": {
      "text/plain": "                                             reviews\n0  Not Verified | I flew with numerous airlines, ...\n1  ✅ Trip Verified |  We were traveling as a fami...\n2  ✅ Trip Verified | Flight at 8.40am from DUB to...\n3  ✅ Trip Verified |  Terrible. I have traveled t...\n4  ✅ Trip Verified |  The customer service is ugl...",
      "text/html": "<div>\n<style scoped>\n    .dataframe tbody tr th:only-of-type {\n        vertical-align: middle;\n    }\n\n    .dataframe tbody tr th {\n        vertical-align: top;\n    }\n\n    .dataframe thead th {\n        text-align: right;\n    }\n</style>\n<table border=\"1\" class=\"dataframe\">\n  <thead>\n    <tr style=\"text-align: right;\">\n      <th></th>\n      <th>reviews</th>\n    </tr>\n  </thead>\n  <tbody>\n    <tr>\n      <th>0</th>\n      <td>Not Verified | I flew with numerous airlines, ...</td>\n    </tr>\n    <tr>\n      <th>1</th>\n      <td>✅ Trip Verified |  We were traveling as a fami...</td>\n    </tr>\n    <tr>\n      <th>2</th>\n      <td>✅ Trip Verified | Flight at 8.40am from DUB to...</td>\n    </tr>\n    <tr>\n      <th>3</th>\n      <td>✅ Trip Verified |  Terrible. I have traveled t...</td>\n    </tr>\n    <tr>\n      <th>4</th>\n      <td>✅ Trip Verified |  The customer service is ugl...</td>\n    </tr>\n  </tbody>\n</table>\n</div>"
     },
     "execution_count": 175,
     "metadata": {},
     "output_type": "execute_result"
    }
   ],
   "source": [
    "\n",
    "df.to_csv('review.csv')\n",
    "british = pd.read_csv('review')\n",
    "british.head()"
   ],
   "metadata": {
    "collapsed": false,
    "pycharm": {
     "name": "#%%\n"
    }
   }
  },
  {
   "cell_type": "code",
   "execution_count": 173,
   "outputs": [
    {
     "data": {
      "text/plain": "            reviews\n0     Not Verified \n1  ✅ Trip Verified \n2  ✅ Trip Verified \n3  ✅ Trip Verified \n4  ✅ Trip Verified ",
      "text/html": "<div>\n<style scoped>\n    .dataframe tbody tr th:only-of-type {\n        vertical-align: middle;\n    }\n\n    .dataframe tbody tr th {\n        vertical-align: top;\n    }\n\n    .dataframe thead th {\n        text-align: right;\n    }\n</style>\n<table border=\"1\" class=\"dataframe\">\n  <thead>\n    <tr style=\"text-align: right;\">\n      <th></th>\n      <th>reviews</th>\n    </tr>\n  </thead>\n  <tbody>\n    <tr>\n      <th>0</th>\n      <td>Not Verified</td>\n    </tr>\n    <tr>\n      <th>1</th>\n      <td>✅ Trip Verified</td>\n    </tr>\n    <tr>\n      <th>2</th>\n      <td>✅ Trip Verified</td>\n    </tr>\n    <tr>\n      <th>3</th>\n      <td>✅ Trip Verified</td>\n    </tr>\n    <tr>\n      <th>4</th>\n      <td>✅ Trip Verified</td>\n    </tr>\n  </tbody>\n</table>\n</div>"
     },
     "execution_count": 173,
     "metadata": {},
     "output_type": "execute_result"
    }
   ],
   "source": [
    "british.reviews= british.reviews.str.split('|',expand=True)[0]\n",
    "british.head()"
   ],
   "metadata": {
    "collapsed": false,
    "pycharm": {
     "name": "#%%\n"
    }
   }
  },
  {
   "cell_type": "markdown",
   "source": [
    "**Text cleaning**"
   ],
   "metadata": {
    "collapsed": false,
    "pycharm": {
     "name": "#%% md\n"
    }
   }
  },
  {
   "cell_type": "code",
   "execution_count": 176,
   "outputs": [
    {
     "data": {
      "text/plain": "                                             reviews  \\\n0  Not Verified | I flew with numerous airlines, ...   \n1  ✅ Trip Verified |  We were traveling as a fami...   \n2  ✅ Trip Verified | Flight at 8.40am from DUB to...   \n3  ✅ Trip Verified |  Terrible. I have traveled t...   \n4  ✅ Trip Verified |  The customer service is ugl...   \n\n                                     Cleaned Reviews  \n0  Not Verified I flew with numerous airlines but...  \n1   Trip Verified We were traveling as a family p...  \n2   Trip Verified Flight at am from DUB to LCY ca...  \n3   Trip Verified Terrible I have traveled twice ...  \n4   Trip Verified The customer service is ugly Tr...  ",
      "text/html": "<div>\n<style scoped>\n    .dataframe tbody tr th:only-of-type {\n        vertical-align: middle;\n    }\n\n    .dataframe tbody tr th {\n        vertical-align: top;\n    }\n\n    .dataframe thead th {\n        text-align: right;\n    }\n</style>\n<table border=\"1\" class=\"dataframe\">\n  <thead>\n    <tr style=\"text-align: right;\">\n      <th></th>\n      <th>reviews</th>\n      <th>Cleaned Reviews</th>\n    </tr>\n  </thead>\n  <tbody>\n    <tr>\n      <th>0</th>\n      <td>Not Verified | I flew with numerous airlines, ...</td>\n      <td>Not Verified I flew with numerous airlines but...</td>\n    </tr>\n    <tr>\n      <th>1</th>\n      <td>✅ Trip Verified |  We were traveling as a fami...</td>\n      <td>Trip Verified We were traveling as a family p...</td>\n    </tr>\n    <tr>\n      <th>2</th>\n      <td>✅ Trip Verified | Flight at 8.40am from DUB to...</td>\n      <td>Trip Verified Flight at am from DUB to LCY ca...</td>\n    </tr>\n    <tr>\n      <th>3</th>\n      <td>✅ Trip Verified |  Terrible. I have traveled t...</td>\n      <td>Trip Verified Terrible I have traveled twice ...</td>\n    </tr>\n    <tr>\n      <th>4</th>\n      <td>✅ Trip Verified |  The customer service is ugl...</td>\n      <td>Trip Verified The customer service is ugly Tr...</td>\n    </tr>\n  </tbody>\n</table>\n</div>"
     },
     "execution_count": 176,
     "metadata": {},
     "output_type": "execute_result"
    }
   ],
   "source": [
    "import re\n",
    "\n",
    "# Define a function to clean the text\n",
    "def clean(text):\n",
    "# Removes all special characters and numericals leaving the alphabets\n",
    "    text = re.sub('[^A-Za-z]+', ' ', str(text))\n",
    "    return text\n",
    "\n",
    "# Cleaning the text in the review column\n",
    "british['Cleaned Reviews'] = british['reviews'].apply(clean)\n",
    "british.head()"
   ],
   "metadata": {
    "collapsed": false,
    "pycharm": {
     "name": "#%%\n"
    }
   }
  },
  {
   "cell_type": "code",
   "execution_count": 177,
   "outputs": [
    {
     "name": "stderr",
     "output_type": "stream",
     "text": [
      "[nltk_data] Downloading package punkt to\n",
      "[nltk_data]     C:\\Users\\Admin\\AppData\\Roaming\\nltk_data...\n",
      "[nltk_data]   Package punkt is already up-to-date!\n",
      "[nltk_data] Downloading package stopwords to\n",
      "[nltk_data]     C:\\Users\\Admin\\AppData\\Roaming\\nltk_data...\n",
      "[nltk_data]   Package stopwords is already up-to-date!\n",
      "[nltk_data] Downloading package wordnet to\n",
      "[nltk_data]     C:\\Users\\Admin\\AppData\\Roaming\\nltk_data...\n",
      "[nltk_data]   Package wordnet is already up-to-date!\n"
     ]
    }
   ],
   "source": [
    "import nltk\n",
    "nltk.download('punkt')\n",
    "from nltk.tokenize import word_tokenize\n",
    "from nltk import pos_tag\n",
    "nltk.download('stopwords')\n",
    "from nltk.corpus import stopwords\n",
    "nltk.download('wordnet')\n",
    "from nltk.corpus import wordnet"
   ],
   "metadata": {
    "collapsed": false,
    "pycharm": {
     "name": "#%%\n"
    }
   }
  },
  {
   "cell_type": "code",
   "execution_count": 180,
   "outputs": [
    {
     "name": "stderr",
     "output_type": "stream",
     "text": [
      "[nltk_data] Downloading package omw-1.4 to\n",
      "[nltk_data]     C:\\Users\\Admin\\AppData\\Roaming\\nltk_data...\n",
      "[nltk_data]   Package omw-1.4 is already up-to-date!\n",
      "[nltk_data] Downloading package averaged_perceptron_tagger to\n",
      "[nltk_data]     C:\\Users\\Admin\\AppData\\Roaming\\nltk_data...\n",
      "[nltk_data]   Package averaged_perceptron_tagger is already up-to-\n",
      "[nltk_data]       date!\n"
     ]
    },
    {
     "data": {
      "text/plain": "                                             reviews  \\\n0  Not Verified | I flew with numerous airlines, ...   \n1  ✅ Trip Verified |  We were traveling as a fami...   \n2  ✅ Trip Verified | Flight at 8.40am from DUB to...   \n3  ✅ Trip Verified |  Terrible. I have traveled t...   \n4  ✅ Trip Verified |  The customer service is ugl...   \n\n                                     Cleaned Reviews  \\\n0  Not Verified I flew with numerous airlines but...   \n1   Trip Verified We were traveling as a family p...   \n2   Trip Verified Flight at am from DUB to LCY ca...   \n3   Trip Verified Terrible I have traveled twice ...   \n4   Trip Verified The customer service is ugly Tr...   \n\n                                          POS tagged  \n0  [(Verified, n), (flew, v), (numerous, a), (air...  \n1  [(Trip, n), (Verified, n), (traveling, v), (fa...  \n2  [(Trip, n), (Verified, n), (Flight, n), (DUB, ...  \n3  [(Trip, n), (Verified, n), (Terrible, n), (tra...  \n4  [(Trip, n), (Verified, v), (customer, n), (ser...  ",
      "text/html": "<div>\n<style scoped>\n    .dataframe tbody tr th:only-of-type {\n        vertical-align: middle;\n    }\n\n    .dataframe tbody tr th {\n        vertical-align: top;\n    }\n\n    .dataframe thead th {\n        text-align: right;\n    }\n</style>\n<table border=\"1\" class=\"dataframe\">\n  <thead>\n    <tr style=\"text-align: right;\">\n      <th></th>\n      <th>reviews</th>\n      <th>Cleaned Reviews</th>\n      <th>POS tagged</th>\n    </tr>\n  </thead>\n  <tbody>\n    <tr>\n      <th>0</th>\n      <td>Not Verified | I flew with numerous airlines, ...</td>\n      <td>Not Verified I flew with numerous airlines but...</td>\n      <td>[(Verified, n), (flew, v), (numerous, a), (air...</td>\n    </tr>\n    <tr>\n      <th>1</th>\n      <td>✅ Trip Verified |  We were traveling as a fami...</td>\n      <td>Trip Verified We were traveling as a family p...</td>\n      <td>[(Trip, n), (Verified, n), (traveling, v), (fa...</td>\n    </tr>\n    <tr>\n      <th>2</th>\n      <td>✅ Trip Verified | Flight at 8.40am from DUB to...</td>\n      <td>Trip Verified Flight at am from DUB to LCY ca...</td>\n      <td>[(Trip, n), (Verified, n), (Flight, n), (DUB, ...</td>\n    </tr>\n    <tr>\n      <th>3</th>\n      <td>✅ Trip Verified |  Terrible. I have traveled t...</td>\n      <td>Trip Verified Terrible I have traveled twice ...</td>\n      <td>[(Trip, n), (Verified, n), (Terrible, n), (tra...</td>\n    </tr>\n    <tr>\n      <th>4</th>\n      <td>✅ Trip Verified |  The customer service is ugl...</td>\n      <td>Trip Verified The customer service is ugly Tr...</td>\n      <td>[(Trip, n), (Verified, v), (customer, n), (ser...</td>\n    </tr>\n  </tbody>\n</table>\n</div>"
     },
     "execution_count": 180,
     "metadata": {},
     "output_type": "execute_result"
    }
   ],
   "source": [
    "nltk.download('omw-1.4')\n",
    "nltk.download('averaged_perceptron_tagger')\n",
    "\n",
    "# POS tagger dictionary\n",
    "pos_dict = {'J':wordnet.ADJ, 'V':wordnet.VERB, 'N':wordnet.NOUN, 'R':wordnet.ADV}\n",
    "def token_stop_pos(text):\n",
    "    tags = pos_tag(word_tokenize(text))\n",
    "    newlist = []\n",
    "    for word, tag in tags:\n",
    "        if word.lower() not in set(stopwords.words('english')):\n",
    "          newlist.append(tuple([word, pos_dict.get(tag[0])]))\n",
    "\n",
    "    return newlist\n",
    "\n",
    "british['POS tagged'] = british['Cleaned Reviews'].apply(token_stop_pos)\n",
    "british.head()"
   ],
   "metadata": {
    "collapsed": false,
    "pycharm": {
     "name": "#%%\n"
    }
   }
  },
  {
   "cell_type": "code",
   "execution_count": 181,
   "outputs": [
    {
     "data": {
      "text/plain": "                                             reviews  \\\n0  Not Verified | I flew with numerous airlines, ...   \n1  ✅ Trip Verified |  We were traveling as a fami...   \n2  ✅ Trip Verified | Flight at 8.40am from DUB to...   \n3  ✅ Trip Verified |  Terrible. I have traveled t...   \n4  ✅ Trip Verified |  The customer service is ugl...   \n\n                                     Cleaned Reviews  \\\n0  Not Verified I flew with numerous airlines but...   \n1   Trip Verified We were traveling as a family p...   \n2   Trip Verified Flight at am from DUB to LCY ca...   \n3   Trip Verified Terrible I have traveled twice ...   \n4   Trip Verified The customer service is ugly Tr...   \n\n                                          POS tagged  \\\n0  [(Verified, n), (flew, v), (numerous, a), (air...   \n1  [(Trip, n), (Verified, n), (traveling, v), (fa...   \n2  [(Trip, n), (Verified, n), (Flight, n), (DUB, ...   \n3  [(Trip, n), (Verified, n), (Terrible, n), (tra...   \n4  [(Trip, n), (Verified, v), (customer, n), (ser...   \n\n                                               Lemma  \n0    Verified fly numerous airline get ta admit B...  \n1    Trip Verified travel family people accident ...  \n2    Trip Verified Flight DUB LCY cancel pm night...  \n3    Trip Verified Terrible travel twice year via...  \n4    Trip Verified customer service ugly Tried ca...  ",
      "text/html": "<div>\n<style scoped>\n    .dataframe tbody tr th:only-of-type {\n        vertical-align: middle;\n    }\n\n    .dataframe tbody tr th {\n        vertical-align: top;\n    }\n\n    .dataframe thead th {\n        text-align: right;\n    }\n</style>\n<table border=\"1\" class=\"dataframe\">\n  <thead>\n    <tr style=\"text-align: right;\">\n      <th></th>\n      <th>reviews</th>\n      <th>Cleaned Reviews</th>\n      <th>POS tagged</th>\n      <th>Lemma</th>\n    </tr>\n  </thead>\n  <tbody>\n    <tr>\n      <th>0</th>\n      <td>Not Verified | I flew with numerous airlines, ...</td>\n      <td>Not Verified I flew with numerous airlines but...</td>\n      <td>[(Verified, n), (flew, v), (numerous, a), (air...</td>\n      <td>Verified fly numerous airline get ta admit B...</td>\n    </tr>\n    <tr>\n      <th>1</th>\n      <td>✅ Trip Verified |  We were traveling as a fami...</td>\n      <td>Trip Verified We were traveling as a family p...</td>\n      <td>[(Trip, n), (Verified, n), (traveling, v), (fa...</td>\n      <td>Trip Verified travel family people accident ...</td>\n    </tr>\n    <tr>\n      <th>2</th>\n      <td>✅ Trip Verified | Flight at 8.40am from DUB to...</td>\n      <td>Trip Verified Flight at am from DUB to LCY ca...</td>\n      <td>[(Trip, n), (Verified, n), (Flight, n), (DUB, ...</td>\n      <td>Trip Verified Flight DUB LCY cancel pm night...</td>\n    </tr>\n    <tr>\n      <th>3</th>\n      <td>✅ Trip Verified |  Terrible. I have traveled t...</td>\n      <td>Trip Verified Terrible I have traveled twice ...</td>\n      <td>[(Trip, n), (Verified, n), (Terrible, n), (tra...</td>\n      <td>Trip Verified Terrible travel twice year via...</td>\n    </tr>\n    <tr>\n      <th>4</th>\n      <td>✅ Trip Verified |  The customer service is ugl...</td>\n      <td>Trip Verified The customer service is ugly Tr...</td>\n      <td>[(Trip, n), (Verified, v), (customer, n), (ser...</td>\n      <td>Trip Verified customer service ugly Tried ca...</td>\n    </tr>\n  </tbody>\n</table>\n</div>"
     },
     "execution_count": 181,
     "metadata": {},
     "output_type": "execute_result"
    }
   ],
   "source": [
    " ##Obtaining the stem words – Lemmatization\n",
    "\n",
    "from nltk.stem import WordNetLemmatizer\n",
    "wordnet_lemmatizer = WordNetLemmatizer()\n",
    "def lemmatize(pos_data):\n",
    "    lemma_rew = \" \"\n",
    "    for word, pos in pos_data:\n",
    "     if not pos:\n",
    "        lemma = word\n",
    "        lemma_rew = lemma_rew + \" \" + lemma\n",
    "     else:\n",
    "        lemma = wordnet_lemmatizer.lemmatize(word, pos=pos)\n",
    "        lemma_rew = lemma_rew + \" \" + lemma\n",
    "    return lemma_rew\n",
    "\n",
    "british['Lemma'] = british['POS tagged'].apply(lemmatize)\n",
    "british.head()"
   ],
   "metadata": {
    "collapsed": false,
    "pycharm": {
     "name": "#%%\n"
    }
   }
  },
  {
   "cell_type": "code",
   "execution_count": 182,
   "outputs": [
    {
     "data": {
      "text/plain": "                                               reviews  \\\n0    Not Verified | I flew with numerous airlines, ...   \n1    ✅ Trip Verified |  We were traveling as a fami...   \n2    ✅ Trip Verified | Flight at 8.40am from DUB to...   \n3    ✅ Trip Verified |  Terrible. I have traveled t...   \n4    ✅ Trip Verified |  The customer service is ugl...   \n..                                                 ...   \n995  ✅ Trip Verified |  \\r\\nNew York to Nairobi via...   \n996  ✅ Trip Verified |  Istanbul to London Heathrow...   \n997  ✅ Trip Verified |  Bad service and attitude al...   \n998  ✅ Trip Verified |  London to Santiago de Chile...   \n999  ✅ Trip Verified |  Flew a now ageing B777 flig...   \n\n                                                 Lemma  \n0      Verified fly numerous airline get ta admit B...  \n1      Trip Verified travel family people accident ...  \n2      Trip Verified Flight DUB LCY cancel pm night...  \n3      Trip Verified Terrible travel twice year via...  \n4      Trip Verified customer service ugly Tried ca...  \n..                                                 ...  \n995    Trip Verified New York Nairobi via London Fl...  \n996    Trip Verified Istanbul London Heathrow plane...  \n997    Trip Verified Bad service attitude round fia...  \n998    Trip Verified London Santiago de Chile fly p...  \n999    Trip Verified Flew age B flight BA Seattle P...  \n\n[1000 rows x 2 columns]",
      "text/html": "<div>\n<style scoped>\n    .dataframe tbody tr th:only-of-type {\n        vertical-align: middle;\n    }\n\n    .dataframe tbody tr th {\n        vertical-align: top;\n    }\n\n    .dataframe thead th {\n        text-align: right;\n    }\n</style>\n<table border=\"1\" class=\"dataframe\">\n  <thead>\n    <tr style=\"text-align: right;\">\n      <th></th>\n      <th>reviews</th>\n      <th>Lemma</th>\n    </tr>\n  </thead>\n  <tbody>\n    <tr>\n      <th>0</th>\n      <td>Not Verified | I flew with numerous airlines, ...</td>\n      <td>Verified fly numerous airline get ta admit B...</td>\n    </tr>\n    <tr>\n      <th>1</th>\n      <td>✅ Trip Verified |  We were traveling as a fami...</td>\n      <td>Trip Verified travel family people accident ...</td>\n    </tr>\n    <tr>\n      <th>2</th>\n      <td>✅ Trip Verified | Flight at 8.40am from DUB to...</td>\n      <td>Trip Verified Flight DUB LCY cancel pm night...</td>\n    </tr>\n    <tr>\n      <th>3</th>\n      <td>✅ Trip Verified |  Terrible. I have traveled t...</td>\n      <td>Trip Verified Terrible travel twice year via...</td>\n    </tr>\n    <tr>\n      <th>4</th>\n      <td>✅ Trip Verified |  The customer service is ugl...</td>\n      <td>Trip Verified customer service ugly Tried ca...</td>\n    </tr>\n    <tr>\n      <th>...</th>\n      <td>...</td>\n      <td>...</td>\n    </tr>\n    <tr>\n      <th>995</th>\n      <td>✅ Trip Verified |  \\r\\nNew York to Nairobi via...</td>\n      <td>Trip Verified New York Nairobi via London Fl...</td>\n    </tr>\n    <tr>\n      <th>996</th>\n      <td>✅ Trip Verified |  Istanbul to London Heathrow...</td>\n      <td>Trip Verified Istanbul London Heathrow plane...</td>\n    </tr>\n    <tr>\n      <th>997</th>\n      <td>✅ Trip Verified |  Bad service and attitude al...</td>\n      <td>Trip Verified Bad service attitude round fia...</td>\n    </tr>\n    <tr>\n      <th>998</th>\n      <td>✅ Trip Verified |  London to Santiago de Chile...</td>\n      <td>Trip Verified London Santiago de Chile fly p...</td>\n    </tr>\n    <tr>\n      <th>999</th>\n      <td>✅ Trip Verified |  Flew a now ageing B777 flig...</td>\n      <td>Trip Verified Flew age B flight BA Seattle P...</td>\n    </tr>\n  </tbody>\n</table>\n<p>1000 rows × 2 columns</p>\n</div>"
     },
     "execution_count": 182,
     "metadata": {},
     "output_type": "execute_result"
    }
   ],
   "source": [
    "british[['reviews','Lemma']]"
   ],
   "metadata": {
    "collapsed": false,
    "pycharm": {
     "name": "#%%\n"
    }
   }
  },
  {
   "cell_type": "markdown",
   "source": [
    "***Sentiment Analysis using VADER***\n"
   ],
   "metadata": {
    "collapsed": false,
    "pycharm": {
     "name": "#%% md\n"
    }
   }
  },
  {
   "cell_type": "code",
   "execution_count": null,
   "outputs": [],
   "source": [
    "!pip install vaderSentiment"
   ],
   "metadata": {
    "collapsed": false,
    "pycharm": {
     "name": "#%%\n"
    }
   }
  },
  {
   "cell_type": "markdown",
   "source": [
    "from vaderSentiment.vaderSentiment import SentimentIntensityAnalyzer\n",
    "analyzer = SentimentIntensityAnalyzer()\n",
    "\n",
    "\n",
    "# function to calculate vader sentiment\n",
    "def vadersentimentanalysis(review):\n",
    "    vs = analyzer.polarity_scores(review)\n",
    "    return vs['compound']\n",
    "\n",
    "british['Sentiment'] = british['Lemma'].apply(vadersentimentanalysis)\n",
    "\n",
    "# function to analyse\n",
    "def vader_analysis(compound):\n",
    "    if compound >= 0.5:\n",
    "        return 'Positive'\n",
    "    elif compound < 0 :\n",
    "        return 'Negative'\n",
    "    else:\n",
    "        return 'Neutral'\n",
    "british['Analysis'] = british['Sentiment'].apply(vader_analysis)\n",
    "british.head()"
   ],
   "metadata": {
    "collapsed": false,
    "pycharm": {
     "name": "#%% md\n"
    }
   }
  },
  {
   "cell_type": "code",
   "execution_count": 184,
   "outputs": [
    {
     "data": {
      "text/plain": "Positive    509\nNegative    384\nNeutral     107\nName: Analysis, dtype: int64"
     },
     "execution_count": 184,
     "metadata": {},
     "output_type": "execute_result"
    }
   ],
   "source": [
    "vader_counts = british['Analysis'].value_counts()\n",
    "vader_counts"
   ],
   "metadata": {
    "collapsed": false,
    "pycharm": {
     "name": "#%%\n"
    }
   }
  },
  {
   "cell_type": "markdown",
   "source": [
    "**Visual Representation**"
   ],
   "metadata": {
    "collapsed": false,
    "pycharm": {
     "name": "#%% md\n"
    }
   }
  },
  {
   "cell_type": "code",
   "execution_count": 186,
   "outputs": [
    {
     "data": {
      "text/plain": "([<matplotlib.patches.Wedge at 0x232e2b94ee0>,\n  <matplotlib.patches.Wedge at 0x232e2df5670>,\n  <matplotlib.patches.Wedge at 0x232e2df5d00>],\n [Text(-0.031097634977506634, 1.0995603380891865, 'Positive'),\n  Text(-0.3333387636187264, -1.0482772861553087, 'Negative'),\n  Text(1.274442496352635, -0.4453047535008627, 'Neutral')],\n [Text(-0.01696234635136725, 0.5997601844122834, '50.9%'),\n  Text(-0.18182114379203254, -0.5717876106301684, '38.4%'),\n  Text(0.8024267569627701, -0.2803770670190617, '10.7%')])"
     },
     "execution_count": 186,
     "metadata": {},
     "output_type": "execute_result"
    },
    {
     "data": {
      "text/plain": "<Figure size 1080x504 with 1 Axes>",
      "image/png": "[encoded data removed]"
     },
     "metadata": {},
     "output_type": "display_data"
    }
   ],
   "source": [
    "import matplotlib.pyplot as plt\n",
    "%matplotlib inline\n",
    "plt.figure(figsize=(15,7))\n",
    "\n",
    "plt.subplot(1,3,2)\n",
    "plt.title(\"Reviews Analysis\")\n",
    "plt.pie(vader_counts.values, labels = vader_counts.index, explode = (0, 0, 0.25), autopct='%1.1f%%', shadow=False)"
   ],
   "metadata": {
    "collapsed": false,
    "pycharm": {
     "name": "#%%\n"
    }
   }
  },
  {
   "cell_type": "markdown",
   "source": [
    "**Wordcloud**"
   ],
   "metadata": {
    "collapsed": false,
    "pycharm": {
     "name": "#%% md\n"
    }
   }
  },
  {
   "cell_type": "code",
   "execution_count": 191,
   "outputs": [
    {
     "name": "stdout",
     "output_type": "stream",
     "text": [
      "Requirement already satisfied: wordcloud in c:\\users\\admin\\anaconda3\\lib\\site-packages (1.9.2)\n",
      "Requirement already satisfied: pillow in c:\\users\\admin\\anaconda3\\lib\\site-packages (from wordcloud) (8.0.1)\n",
      "Requirement already satisfied: numpy>=1.6.1 in c:\\users\\admin\\anaconda3\\lib\\site-packages (from wordcloud) (1.19.2)\n",
      "Requirement already satisfied: matplotlib in c:\\users\\admin\\anaconda3\\lib\\site-packages (from wordcloud) (3.3.2)\n",
      "Requirement already satisfied: certifi>=2020.06.20 in c:\\users\\admin\\anaconda3\\lib\\site-packages (from matplotlib->wordcloud) (2020.6.20)\n",
      "Requirement already satisfied: kiwisolver>=1.0.1 in c:\\users\\admin\\anaconda3\\lib\\site-packages (from matplotlib->wordcloud) (1.3.0)\n",
      "Requirement already satisfied: cycler>=0.10 in c:\\users\\admin\\anaconda3\\lib\\site-packages (from matplotlib->wordcloud) (0.10.0)\n",
      "Requirement already satisfied: python-dateutil>=2.1 in c:\\users\\admin\\anaconda3\\lib\\site-packages (from matplotlib->wordcloud) (2.8.1)\n",
      "Requirement already satisfied: pyparsing!=2.0.4,!=2.1.2,!=2.1.6,>=2.0.3 in c:\\users\\admin\\anaconda3\\lib\\site-packages (from matplotlib->wordcloud) (2.4.7)\n",
      "Requirement already satisfied: six in c:\\users\\admin\\anaconda3\\lib\\site-packages (from cycler>=0.10->matplotlib->wordcloud) (1.15.0)\n"
     ]
    }
   ],
   "source": [
    "!pip install wordcloud"
   ],
   "metadata": {
    "collapsed": false,
    "pycharm": {
     "name": "#%%\n"
    }
   }
  },
  {
   "cell_type": "code",
   "execution_count": 193,
   "outputs": [
    {
     "ename": "AttributeError",
     "evalue": "'TransposedFont' object has no attribute 'getbbox'",
     "output_type": "error",
     "traceback": [
      "\u001B[1;31m---------------------------------------------------------------------------\u001B[0m",
      "\u001B[1;31mAttributeError\u001B[0m                            Traceback (most recent call last)",
      "\u001B[1;32m<ipython-input-193-13d6abdc23f8>\u001B[0m in \u001B[0;36m<module>\u001B[1;34m\u001B[0m\n\u001B[0;32m     19\u001B[0m     \u001B[0mplt\u001B[0m\u001B[1;33m.\u001B[0m\u001B[0mshow\u001B[0m\u001B[1;33m(\u001B[0m\u001B[1;33m)\u001B[0m\u001B[1;33m\u001B[0m\u001B[1;33m\u001B[0m\u001B[0m\n\u001B[0;32m     20\u001B[0m \u001B[1;33m\u001B[0m\u001B[0m\n\u001B[1;32m---> 21\u001B[1;33m \u001B[0mshow_wordcloud\u001B[0m\u001B[1;33m(\u001B[0m\u001B[0mbritish\u001B[0m\u001B[1;33m.\u001B[0m\u001B[0mLemma\u001B[0m\u001B[1;33m)\u001B[0m\u001B[1;33m\u001B[0m\u001B[1;33m\u001B[0m\u001B[0m\n\u001B[0m\u001B[0;32m     22\u001B[0m \u001B[1;33m\u001B[0m\u001B[0m\n",
      "\u001B[1;32m<ipython-input-193-13d6abdc23f8>\u001B[0m in \u001B[0;36mshow_wordcloud\u001B[1;34m(data)\u001B[0m\n\u001B[0;32m     11\u001B[0m         random_state=1)\n\u001B[0;32m     12\u001B[0m \u001B[1;33m\u001B[0m\u001B[0m\n\u001B[1;32m---> 13\u001B[1;33m     \u001B[0mwordcloud\u001B[0m\u001B[1;33m=\u001B[0m\u001B[0mwordcloud\u001B[0m\u001B[1;33m.\u001B[0m\u001B[0mgenerate\u001B[0m\u001B[1;33m(\u001B[0m\u001B[0mstr\u001B[0m\u001B[1;33m(\u001B[0m\u001B[0mdata\u001B[0m\u001B[1;33m)\u001B[0m\u001B[1;33m)\u001B[0m\u001B[1;33m\u001B[0m\u001B[1;33m\u001B[0m\u001B[0m\n\u001B[0m\u001B[0;32m     14\u001B[0m \u001B[1;33m\u001B[0m\u001B[0m\n\u001B[0;32m     15\u001B[0m     \u001B[0mfig\u001B[0m \u001B[1;33m=\u001B[0m \u001B[0mplt\u001B[0m\u001B[1;33m.\u001B[0m\u001B[0mfigure\u001B[0m\u001B[1;33m(\u001B[0m\u001B[1;36m1\u001B[0m\u001B[1;33m,\u001B[0m \u001B[0mfigsize\u001B[0m\u001B[1;33m=\u001B[0m\u001B[1;33m(\u001B[0m\u001B[1;36m12\u001B[0m\u001B[1;33m,\u001B[0m \u001B[1;36m12\u001B[0m\u001B[1;33m)\u001B[0m\u001B[1;33m)\u001B[0m\u001B[1;33m\u001B[0m\u001B[1;33m\u001B[0m\u001B[0m\n",
      "\u001B[1;32m~\\anaconda3\\lib\\site-packages\\wordcloud\\wordcloud.py\u001B[0m in \u001B[0;36mgenerate\u001B[1;34m(self, text)\u001B[0m\n\u001B[0;32m    637\u001B[0m         \u001B[0mself\u001B[0m\u001B[1;33m\u001B[0m\u001B[1;33m\u001B[0m\u001B[0m\n\u001B[0;32m    638\u001B[0m         \"\"\"\n\u001B[1;32m--> 639\u001B[1;33m         \u001B[1;32mreturn\u001B[0m \u001B[0mself\u001B[0m\u001B[1;33m.\u001B[0m\u001B[0mgenerate_from_text\u001B[0m\u001B[1;33m(\u001B[0m\u001B[0mtext\u001B[0m\u001B[1;33m)\u001B[0m\u001B[1;33m\u001B[0m\u001B[1;33m\u001B[0m\u001B[0m\n\u001B[0m\u001B[0;32m    640\u001B[0m \u001B[1;33m\u001B[0m\u001B[0m\n\u001B[0;32m    641\u001B[0m     \u001B[1;32mdef\u001B[0m \u001B[0m_check_generated\u001B[0m\u001B[1;33m(\u001B[0m\u001B[0mself\u001B[0m\u001B[1;33m)\u001B[0m\u001B[1;33m:\u001B[0m\u001B[1;33m\u001B[0m\u001B[1;33m\u001B[0m\u001B[0m\n",
      "\u001B[1;32m~\\anaconda3\\lib\\site-packages\\wordcloud\\wordcloud.py\u001B[0m in \u001B[0;36mgenerate_from_text\u001B[1;34m(self, text)\u001B[0m\n\u001B[0;32m    619\u001B[0m         \"\"\"\n\u001B[0;32m    620\u001B[0m         \u001B[0mwords\u001B[0m \u001B[1;33m=\u001B[0m \u001B[0mself\u001B[0m\u001B[1;33m.\u001B[0m\u001B[0mprocess_text\u001B[0m\u001B[1;33m(\u001B[0m\u001B[0mtext\u001B[0m\u001B[1;33m)\u001B[0m\u001B[1;33m\u001B[0m\u001B[1;33m\u001B[0m\u001B[0m\n\u001B[1;32m--> 621\u001B[1;33m         \u001B[0mself\u001B[0m\u001B[1;33m.\u001B[0m\u001B[0mgenerate_from_frequencies\u001B[0m\u001B[1;33m(\u001B[0m\u001B[0mwords\u001B[0m\u001B[1;33m)\u001B[0m\u001B[1;33m\u001B[0m\u001B[1;33m\u001B[0m\u001B[0m\n\u001B[0m\u001B[0;32m    622\u001B[0m         \u001B[1;32mreturn\u001B[0m \u001B[0mself\u001B[0m\u001B[1;33m\u001B[0m\u001B[1;33m\u001B[0m\u001B[0m\n\u001B[0;32m    623\u001B[0m \u001B[1;33m\u001B[0m\u001B[0m\n",
      "\u001B[1;32m~\\anaconda3\\lib\\site-packages\\wordcloud\\wordcloud.py\u001B[0m in \u001B[0;36mgenerate_from_frequencies\u001B[1;34m(self, frequencies, max_font_size)\u001B[0m\n\u001B[0;32m    506\u001B[0m                     font, orientation=orientation)\n\u001B[0;32m    507\u001B[0m                 \u001B[1;31m# get size of resulting text\u001B[0m\u001B[1;33m\u001B[0m\u001B[1;33m\u001B[0m\u001B[1;33m\u001B[0m\u001B[0m\n\u001B[1;32m--> 508\u001B[1;33m                 \u001B[0mbox_size\u001B[0m \u001B[1;33m=\u001B[0m \u001B[0mdraw\u001B[0m\u001B[1;33m.\u001B[0m\u001B[0mtextbbox\u001B[0m\u001B[1;33m(\u001B[0m\u001B[1;33m(\u001B[0m\u001B[1;36m0\u001B[0m\u001B[1;33m,\u001B[0m \u001B[1;36m0\u001B[0m\u001B[1;33m)\u001B[0m\u001B[1;33m,\u001B[0m \u001B[0mword\u001B[0m\u001B[1;33m,\u001B[0m \u001B[0mfont\u001B[0m\u001B[1;33m=\u001B[0m\u001B[0mtransposed_font\u001B[0m\u001B[1;33m,\u001B[0m \u001B[0manchor\u001B[0m\u001B[1;33m=\u001B[0m\u001B[1;34m\"lt\"\u001B[0m\u001B[1;33m)\u001B[0m\u001B[1;33m\u001B[0m\u001B[1;33m\u001B[0m\u001B[0m\n\u001B[0m\u001B[0;32m    509\u001B[0m                 \u001B[1;31m# find possible places using integral image:\u001B[0m\u001B[1;33m\u001B[0m\u001B[1;33m\u001B[0m\u001B[1;33m\u001B[0m\u001B[0m\n\u001B[0;32m    510\u001B[0m                 result = occupancy.sample_position(box_size[3] + self.margin,\n",
      "\u001B[1;32m~\\anaconda3\\lib\\site-packages\\PIL\\ImageDraw.py\u001B[0m in \u001B[0;36mtextbbox\u001B[1;34m(self, xy, text, font, anchor, spacing, align, direction, features, language, stroke_width, embedded_color)\u001B[0m\n\u001B[0;32m    565\u001B[0m             \u001B[0mfont\u001B[0m \u001B[1;33m=\u001B[0m \u001B[0mself\u001B[0m\u001B[1;33m.\u001B[0m\u001B[0mgetfont\u001B[0m\u001B[1;33m(\u001B[0m\u001B[1;33m)\u001B[0m\u001B[1;33m\u001B[0m\u001B[1;33m\u001B[0m\u001B[0m\n\u001B[0;32m    566\u001B[0m         \u001B[0mmode\u001B[0m \u001B[1;33m=\u001B[0m \u001B[1;34m\"RGBA\"\u001B[0m \u001B[1;32mif\u001B[0m \u001B[0membedded_color\u001B[0m \u001B[1;32melse\u001B[0m \u001B[0mself\u001B[0m\u001B[1;33m.\u001B[0m\u001B[0mfontmode\u001B[0m\u001B[1;33m\u001B[0m\u001B[1;33m\u001B[0m\u001B[0m\n\u001B[1;32m--> 567\u001B[1;33m         bbox = font.getbbox(\n\u001B[0m\u001B[0;32m    568\u001B[0m             \u001B[0mtext\u001B[0m\u001B[1;33m,\u001B[0m \u001B[0mmode\u001B[0m\u001B[1;33m,\u001B[0m \u001B[0mdirection\u001B[0m\u001B[1;33m,\u001B[0m \u001B[0mfeatures\u001B[0m\u001B[1;33m,\u001B[0m \u001B[0mlanguage\u001B[0m\u001B[1;33m,\u001B[0m \u001B[0mstroke_width\u001B[0m\u001B[1;33m,\u001B[0m \u001B[0manchor\u001B[0m\u001B[1;33m\u001B[0m\u001B[1;33m\u001B[0m\u001B[0m\n\u001B[0;32m    569\u001B[0m         )\n",
      "\u001B[1;31mAttributeError\u001B[0m: 'TransposedFont' object has no attribute 'getbbox'"
     ]
    }
   ],
   "source": [
    "from wordcloud import WordCloud, STOPWORDS\n",
    "stopwords = set(STOPWORDS)\n",
    "\n",
    "def show_wordcloud(data):\n",
    "    wordcloud = WordCloud(\n",
    "        background_color='white',\n",
    "        stopwords=stopwords,\n",
    "        max_words=100,\n",
    "        max_font_size=30,\n",
    "        scale=3,\n",
    "        random_state=1)\n",
    "\n",
    "    wordcloud=wordcloud.generate(str(data))\n",
    "\n",
    "    fig = plt.figure(1, figsize=(12, 12))\n",
    "    plt.axis('off')\n",
    "\n",
    "    plt.imshow(wordcloud)\n",
    "    plt.show()\n",
    "\n",
    "show_wordcloud(british.Lemma)\n"
   ],
   "metadata": {
    "collapsed": false,
    "pycharm": {
     "name": "#%%\n"
    }
   }
  },
  {
   "cell_type": "code",
   "execution_count": null,
   "outputs": [],
   "source": [],
   "metadata": {
    "collapsed": false,
    "pycharm": {
     "name": "#%%\n"
    }
   }
  }
 ],
 "metadata": {
  "kernelspec": {
   "display_name": "Python 3",
   "language": "python",
   "name": "python3"
  },
  "language_info": {
   "codemirror_mode": {
    "name": "ipython",
    "version": 2
   },
   "file_extension": ".py",
   "mimetype": "text/x-python",
   "name": "python",
   "nbconvert_exporter": "python",
   "pygments_lexer": "ipython2",
   "version": "2.7.6"
  }
 },
 "nbformat": 4,
 "nbformat_minor": 0
}