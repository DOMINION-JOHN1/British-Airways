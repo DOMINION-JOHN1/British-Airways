{
 "cells": [
  {
   "cell_type": "code",
   "execution_count": 1,
   "metadata": {
    "collapsed": true,
    "pycharm": {
     "name": "#%%\n"
    }
   },
   "outputs": [],
   "source": [
    "import requests\n",
    "from bs4 import BeautifulSoup\n",
    "import pandas as pd"
   ]
  },
  {
   "cell_type": "code",
   "execution_count": 2,
   "outputs": [
    {
     "name": "stdout",
     "output_type": "stream",
     "text": [
      "Scraping page 1\n",
      "   ---> 100 total reviews\n",
      "Scraping page 2\n",
      "   ---> 200 total reviews\n",
      "Scraping page 3\n",
      "   ---> 300 total reviews\n",
      "Scraping page 4\n",
      "   ---> 400 total reviews\n",
      "Scraping page 5\n",
      "   ---> 500 total reviews\n",
      "Scraping page 6\n",
      "   ---> 600 total reviews\n",
      "Scraping page 7\n",
      "   ---> 700 total reviews\n",
      "Scraping page 8\n",
      "   ---> 800 total reviews\n",
      "Scraping page 9\n",
      "   ---> 900 total reviews\n",
      "Scraping page 10\n",
      "   ---> 1000 total reviews\n"
     ]
    }
   ],
   "source": [
    "base_url = \"https://www.airlinequality.com/airline-reviews/british-airways\"\n",
    "pages = 10\n",
    "page_size = 100\n",
    "\n",
    "reviews = []\n",
    "\n",
    "# for i in range(1, pages + 1):\n",
    "for i in range(1, pages + 1):\n",
    "\n",
    "    print(f\"Scraping page {i}\")\n",
    "\n",
    "    # Create URL to collect links from paginated data\n",
    "    url = f\"{base_url}/page/{i}/?sortby=post_date%3ADesc&pagesize={page_size}\"\n",
    "\n",
    "    # Collect HTML data from this page\n",
    "    response = requests.get(url)\n",
    "\n",
    "    # Parse content\n",
    "    content = response.content\n",
    "    parsed_content = BeautifulSoup(content, 'html.parser')\n",
    "    for para in parsed_content.find_all(\"div\", {\"class\": \"text_content\"}):\n",
    "        reviews.append(para.get_text())\n",
    "\n",
    "    print(f\"   ---> {len(reviews)} total reviews\")"
   ],
   "metadata": {
    "collapsed": false,
    "pycharm": {
     "name": "#%%\n"
    }
   }
  },
  {
   "cell_type": "code",
   "execution_count": 5,
   "outputs": [
    {
     "data": {
      "text/plain": "                                             reviews\n0  ✅ Trip Verified | Worst seats I have ever enco...\n1  Not Verified | Top Ten REASONS to not use Brit...\n2  Not Verified |  Easy check in on the way to He...\n3  ✅ Trip Verified |  Online check in worked fine...\n4  ✅ Trip Verified |. The BA first lounge at Term...",
      "text/html": "<div>\n<style scoped>\n    .dataframe tbody tr th:only-of-type {\n        vertical-align: middle;\n    }\n\n    .dataframe tbody tr th {\n        vertical-align: top;\n    }\n\n    .dataframe thead th {\n        text-align: right;\n    }\n</style>\n<table border=\"1\" class=\"dataframe\">\n  <thead>\n    <tr style=\"text-align: right;\">\n      <th></th>\n      <th>reviews</th>\n    </tr>\n  </thead>\n  <tbody>\n    <tr>\n      <th>0</th>\n      <td>✅ Trip Verified | Worst seats I have ever enco...</td>\n    </tr>\n    <tr>\n      <th>1</th>\n      <td>Not Verified | Top Ten REASONS to not use Brit...</td>\n    </tr>\n    <tr>\n      <th>2</th>\n      <td>Not Verified |  Easy check in on the way to He...</td>\n    </tr>\n    <tr>\n      <th>3</th>\n      <td>✅ Trip Verified |  Online check in worked fine...</td>\n    </tr>\n    <tr>\n      <th>4</th>\n      <td>✅ Trip Verified |. The BA first lounge at Term...</td>\n    </tr>\n  </tbody>\n</table>\n</div>"
     },
     "execution_count": 5,
     "metadata": {},
     "output_type": "execute_result"
    }
   ],
   "source": [
    "df = pd.DataFrame()\n",
    "df[\"reviews\"] = reviews\n",
    "df.head()"
   ],
   "metadata": {
    "collapsed": false,
    "pycharm": {
     "name": "#%%\n"
    }
   }
  },
  {
   "cell_type": "code",
   "execution_count": 8,
   "outputs": [
    {
     "name": "stdout",
     "output_type": "stream",
     "text": [
      "<class 'pandas.core.frame.DataFrame'>\n",
      "RangeIndex: 1000 entries, 0 to 999\n",
      "Data columns (total 1 columns):\n",
      " #   Column   Non-Null Count  Dtype \n",
      "---  ------   --------------  ----- \n",
      " 0   reviews  1000 non-null   object\n",
      "dtypes: object(1)\n",
      "memory usage: 7.9+ KB\n"
     ]
    }
   ],
   "source": [
    "df.info()"
   ],
   "metadata": {
    "collapsed": false,
    "pycharm": {
     "name": "#%%\n"
    }
   }
  },
  {
   "cell_type": "code",
   "execution_count": 16,
   "outputs": [
    {
     "data": {
      "text/plain": "                                               reviews\n0     Worst seats I have ever encountered in econom...\n1     Top Ten REASONS to not use British Airways To...\n2      Easy check in on the way to Heathrow. The fl...\n3      Online check in worked fine. Quick security ...\n4    . The BA first lounge at Terminal 5 was a  zoo...\n..                                                 ...\n995    Bermuda to Gatwick. Usual window and Aisle s...\n996    Aberdeen to Boston via London Heathrow. I fo...\n997    London to Hamburg. Baggage self-check-in was...\n998   Flew London Heathrow to Hong Kong with Britis...\n999   Flew to Istanbul with British Airways on 5th ...\n\n[1000 rows x 1 columns]",
      "text/html": "<div>\n<style scoped>\n    .dataframe tbody tr th:only-of-type {\n        vertical-align: middle;\n    }\n\n    .dataframe tbody tr th {\n        vertical-align: top;\n    }\n\n    .dataframe thead th {\n        text-align: right;\n    }\n</style>\n<table border=\"1\" class=\"dataframe\">\n  <thead>\n    <tr style=\"text-align: right;\">\n      <th></th>\n      <th>reviews</th>\n    </tr>\n  </thead>\n  <tbody>\n    <tr>\n      <th>0</th>\n      <td>Worst seats I have ever encountered in econom...</td>\n    </tr>\n    <tr>\n      <th>1</th>\n      <td>Top Ten REASONS to not use British Airways To...</td>\n    </tr>\n    <tr>\n      <th>2</th>\n      <td>Easy check in on the way to Heathrow. The fl...</td>\n    </tr>\n    <tr>\n      <th>3</th>\n      <td>Online check in worked fine. Quick security ...</td>\n    </tr>\n    <tr>\n      <th>4</th>\n      <td>. The BA first lounge at Terminal 5 was a  zoo...</td>\n    </tr>\n    <tr>\n      <th>...</th>\n      <td>...</td>\n    </tr>\n    <tr>\n      <th>995</th>\n      <td>Bermuda to Gatwick. Usual window and Aisle s...</td>\n    </tr>\n    <tr>\n      <th>996</th>\n      <td>Aberdeen to Boston via London Heathrow. I fo...</td>\n    </tr>\n    <tr>\n      <th>997</th>\n      <td>London to Hamburg. Baggage self-check-in was...</td>\n    </tr>\n    <tr>\n      <th>998</th>\n      <td>Flew London Heathrow to Hong Kong with Britis...</td>\n    </tr>\n    <tr>\n      <th>999</th>\n      <td>Flew to Istanbul with British Airways on 5th ...</td>\n    </tr>\n  </tbody>\n</table>\n<p>1000 rows × 1 columns</p>\n</div>"
     },
     "execution_count": 16,
     "metadata": {},
     "output_type": "execute_result"
    }
   ],
   "source": [
    "df.reviews= df.reviews.str.split('|',expand=True)[0]\n",
    "df"
   ],
   "metadata": {
    "collapsed": false,
    "pycharm": {
     "name": "#%%\n"
    }
   }
  },
  {
   "cell_type": "markdown",
   "source": [
    "**Text cleaning**"
   ],
   "metadata": {
    "collapsed": false,
    "pycharm": {
     "name": "#%% md\n"
    }
   }
  },
  {
   "cell_type": "code",
   "execution_count": 21,
   "outputs": [
    {
     "data": {
      "text/plain": "                                             reviews  \\\n0   Worst seats I have ever encountered in econom...   \n1   Top Ten REASONS to not use British Airways To...   \n2    Easy check in on the way to Heathrow. The fl...   \n3    Online check in worked fine. Quick security ...   \n4  . The BA first lounge at Terminal 5 was a  zoo...   \n\n                                     Cleaned Reviews  \n0   Worst seats I have ever encountered in econom...  \n1   Top Ten REASONS to not use British Airways To...  \n2   Easy check in on the way to Heathrow The flig...  \n3   Online check in worked fine Quick security ch...  \n4   The BA first lounge at Terminal was a zoo at ...  ",
      "text/html": "<div>\n<style scoped>\n    .dataframe tbody tr th:only-of-type {\n        vertical-align: middle;\n    }\n\n    .dataframe tbody tr th {\n        vertical-align: top;\n    }\n\n    .dataframe thead th {\n        text-align: right;\n    }\n</style>\n<table border=\"1\" class=\"dataframe\">\n  <thead>\n    <tr style=\"text-align: right;\">\n      <th></th>\n      <th>reviews</th>\n      <th>Cleaned Reviews</th>\n    </tr>\n  </thead>\n  <tbody>\n    <tr>\n      <th>0</th>\n      <td>Worst seats I have ever encountered in econom...</td>\n      <td>Worst seats I have ever encountered in econom...</td>\n    </tr>\n    <tr>\n      <th>1</th>\n      <td>Top Ten REASONS to not use British Airways To...</td>\n      <td>Top Ten REASONS to not use British Airways To...</td>\n    </tr>\n    <tr>\n      <th>2</th>\n      <td>Easy check in on the way to Heathrow. The fl...</td>\n      <td>Easy check in on the way to Heathrow The flig...</td>\n    </tr>\n    <tr>\n      <th>3</th>\n      <td>Online check in worked fine. Quick security ...</td>\n      <td>Online check in worked fine Quick security ch...</td>\n    </tr>\n    <tr>\n      <th>4</th>\n      <td>. The BA first lounge at Terminal 5 was a  zoo...</td>\n      <td>The BA first lounge at Terminal was a zoo at ...</td>\n    </tr>\n  </tbody>\n</table>\n</div>"
     },
     "execution_count": 21,
     "metadata": {},
     "output_type": "execute_result"
    }
   ],
   "source": [
    "import re\n",
    "\n",
    "# Define a function to clean the text\n",
    "def clean(text):\n",
    "# Removes all special characters and numericals leaving the alphabets\n",
    "    text = re.sub('[^A-Za-z]+', ' ', str(text))\n",
    "    return text\n",
    "\n",
    "# Cleaning the text in the review column\n",
    "df['Cleaned Reviews'] = df['reviews'].apply(clean)\n",
    "df.head()"
   ],
   "metadata": {
    "collapsed": false,
    "pycharm": {
     "name": "#%%\n"
    }
   }
  },
  {
   "cell_type": "code",
   "execution_count": 22,
   "outputs": [
    {
     "name": "stderr",
     "output_type": "stream",
     "text": [
      "[nltk_data] Downloading package punkt to\n",
      "[nltk_data]     C:\\Users\\Admin\\AppData\\Roaming\\nltk_data...\n",
      "[nltk_data]   Unzipping tokenizers\\punkt.zip.\n",
      "[nltk_data] Downloading package stopwords to\n",
      "[nltk_data]     C:\\Users\\Admin\\AppData\\Roaming\\nltk_data...\n",
      "[nltk_data]   Unzipping corpora\\stopwords.zip.\n",
      "[nltk_data] Downloading package wordnet to\n",
      "[nltk_data]     C:\\Users\\Admin\\AppData\\Roaming\\nltk_data...\n"
     ]
    }
   ],
   "source": [
    "import nltk\n",
    "nltk.download('punkt')\n",
    "from nltk.tokenize import word_tokenize\n",
    "from nltk import pos_tag\n",
    "nltk.download('stopwords')\n",
    "from nltk.corpus import stopwords\n",
    "nltk.download('wordnet')\n",
    "from nltk.corpus import wordnet"
   ],
   "metadata": {
    "collapsed": false,
    "pycharm": {
     "name": "#%%\n"
    }
   }
  },
  {
   "cell_type": "code",
   "execution_count": 27,
   "outputs": [
    {
     "data": {
      "text/plain": "                                             reviews  \\\n0   Worst seats I have ever encountered in econom...   \n1   Top Ten REASONS to not use British Airways To...   \n2    Easy check in on the way to Heathrow. The fl...   \n3    Online check in worked fine. Quick security ...   \n4  . The BA first lounge at Terminal 5 was a  zoo...   \n\n                                     Cleaned Reviews  \\\n0   Worst seats I have ever encountered in econom...   \n1   Top Ten REASONS to not use British Airways To...   \n2   Easy check in on the way to Heathrow The flig...   \n3   Online check in worked fine Quick security ch...   \n4   The BA first lounge at Terminal was a zoo at ...   \n\n                                          POS tagged  \n0  [(Worst, n), (seats, n), (ever, r), (encounter...  \n1  [(Top, a), (Ten, n), (REASONS, n), (use, v), (...  \n2  [(Easy, a), (check, n), (way, n), (Heathrow, v...  \n3  [(Online, n), (check, n), (worked, a), (fine, ...  \n4  [(BA, n), (first, a), (lounge, n), (Terminal, ...  ",
      "text/html": "<div>\n<style scoped>\n    .dataframe tbody tr th:only-of-type {\n        vertical-align: middle;\n    }\n\n    .dataframe tbody tr th {\n        vertical-align: top;\n    }\n\n    .dataframe thead th {\n        text-align: right;\n    }\n</style>\n<table border=\"1\" class=\"dataframe\">\n  <thead>\n    <tr style=\"text-align: right;\">\n      <th></th>\n      <th>reviews</th>\n      <th>Cleaned Reviews</th>\n      <th>POS tagged</th>\n    </tr>\n  </thead>\n  <tbody>\n    <tr>\n      <th>0</th>\n      <td>Worst seats I have ever encountered in econom...</td>\n      <td>Worst seats I have ever encountered in econom...</td>\n      <td>[(Worst, n), (seats, n), (ever, r), (encounter...</td>\n    </tr>\n    <tr>\n      <th>1</th>\n      <td>Top Ten REASONS to not use British Airways To...</td>\n      <td>Top Ten REASONS to not use British Airways To...</td>\n      <td>[(Top, a), (Ten, n), (REASONS, n), (use, v), (...</td>\n    </tr>\n    <tr>\n      <th>2</th>\n      <td>Easy check in on the way to Heathrow. The fl...</td>\n      <td>Easy check in on the way to Heathrow The flig...</td>\n      <td>[(Easy, a), (check, n), (way, n), (Heathrow, v...</td>\n    </tr>\n    <tr>\n      <th>3</th>\n      <td>Online check in worked fine. Quick security ...</td>\n      <td>Online check in worked fine Quick security ch...</td>\n      <td>[(Online, n), (check, n), (worked, a), (fine, ...</td>\n    </tr>\n    <tr>\n      <th>4</th>\n      <td>. The BA first lounge at Terminal 5 was a  zoo...</td>\n      <td>The BA first lounge at Terminal was a zoo at ...</td>\n      <td>[(BA, n), (first, a), (lounge, n), (Terminal, ...</td>\n    </tr>\n  </tbody>\n</table>\n</div>"
     },
     "execution_count": 26,
     "metadata": {},
     "output_type": "execute_result"
    },
    {
     "name": "stderr",
     "output_type": "stream",
     "text": [
      "[nltk_data] Downloading package omw-1.4 to\n",
      "[nltk_data]     C:\\Users\\Admin\\AppData\\Roaming\\nltk_data...\n",
      "[nltk_data]   Package omw-1.4 is already up-to-date!\n",
      "[nltk_data] Downloading package averaged_perceptron_tagger to\n",
      "[nltk_data]     C:\\Users\\Admin\\AppData\\Roaming\\nltk_data...\n",
      "[nltk_data]   Package averaged_perceptron_tagger is already up-to-\n",
      "[nltk_data]       date!\n"
     ]
    },
    {
     "data": {
      "text/plain": "                                             reviews  \\\n0   Worst seats I have ever encountered in econom...   \n1   Top Ten REASONS to not use British Airways To...   \n2    Easy check in on the way to Heathrow. The fl...   \n3    Online check in worked fine. Quick security ...   \n4  . The BA first lounge at Terminal 5 was a  zoo...   \n\n                                     Cleaned Reviews  \\\n0   Worst seats I have ever encountered in econom...   \n1   Top Ten REASONS to not use British Airways To...   \n2   Easy check in on the way to Heathrow The flig...   \n3   Online check in worked fine Quick security ch...   \n4   The BA first lounge at Terminal was a zoo at ...   \n\n                                          POS tagged  \n0  [(Worst, n), (seats, n), (ever, r), (encounter...  \n1  [(Top, a), (Ten, n), (REASONS, n), (use, v), (...  \n2  [(Easy, a), (check, n), (way, n), (Heathrow, v...  \n3  [(Online, n), (check, n), (worked, a), (fine, ...  \n4  [(BA, n), (first, a), (lounge, n), (Terminal, ...  ",
      "text/html": "<div>\n<style scoped>\n    .dataframe tbody tr th:only-of-type {\n        vertical-align: middle;\n    }\n\n    .dataframe tbody tr th {\n        vertical-align: top;\n    }\n\n    .dataframe thead th {\n        text-align: right;\n    }\n</style>\n<table border=\"1\" class=\"dataframe\">\n  <thead>\n    <tr style=\"text-align: right;\">\n      <th></th>\n      <th>reviews</th>\n      <th>Cleaned Reviews</th>\n      <th>POS tagged</th>\n    </tr>\n  </thead>\n  <tbody>\n    <tr>\n      <th>0</th>\n      <td>Worst seats I have ever encountered in econom...</td>\n      <td>Worst seats I have ever encountered in econom...</td>\n      <td>[(Worst, n), (seats, n), (ever, r), (encounter...</td>\n    </tr>\n    <tr>\n      <th>1</th>\n      <td>Top Ten REASONS to not use British Airways To...</td>\n      <td>Top Ten REASONS to not use British Airways To...</td>\n      <td>[(Top, a), (Ten, n), (REASONS, n), (use, v), (...</td>\n    </tr>\n    <tr>\n      <th>2</th>\n      <td>Easy check in on the way to Heathrow. The fl...</td>\n      <td>Easy check in on the way to Heathrow The flig...</td>\n      <td>[(Easy, a), (check, n), (way, n), (Heathrow, v...</td>\n    </tr>\n    <tr>\n      <th>3</th>\n      <td>Online check in worked fine. Quick security ...</td>\n      <td>Online check in worked fine Quick security ch...</td>\n      <td>[(Online, n), (check, n), (worked, a), (fine, ...</td>\n    </tr>\n    <tr>\n      <th>4</th>\n      <td>. The BA first lounge at Terminal 5 was a  zoo...</td>\n      <td>The BA first lounge at Terminal was a zoo at ...</td>\n      <td>[(BA, n), (first, a), (lounge, n), (Terminal, ...</td>\n    </tr>\n  </tbody>\n</table>\n</div>"
     },
     "execution_count": 27,
     "metadata": {},
     "output_type": "execute_result"
    },
    {
     "name": "stderr",
     "output_type": "stream",
     "text": [
      "[nltk_data] Downloading package omw-1.4 to\n",
      "[nltk_data]     C:\\Users\\Admin\\AppData\\Roaming\\nltk_data...\n",
      "[nltk_data]   Package omw-1.4 is already up-to-date!\n",
      "[nltk_data] Downloading package averaged_perceptron_tagger to\n",
      "[nltk_data]     C:\\Users\\Admin\\AppData\\Roaming\\nltk_data...\n",
      "[nltk_data]   Package averaged_perceptron_tagger is already up-to-\n",
      "[nltk_data]       date!\n"
     ]
    }
   ],
   "source": [
    "nltk.download('omw-1.4')\n",
    "nltk.download('averaged_perceptron_tagger')\n",
    "\n",
    "# POS tagger dictionary\n",
    "pos_dict = {'J':wordnet.ADJ, 'V':wordnet.VERB, 'N':wordnet.NOUN, 'R':wordnet.ADV}\n",
    "def token_stop_pos(text):\n",
    "    tags = pos_tag(word_tokenize(text))\n",
    "    #print(tags)\n",
    "    newlist = []\n",
    "    for word, tag in tags:\n",
    "        if word.lower() not in set(stopwords.words('english')):\n",
    "          newlist.append(tuple([word, pos_dict.get(tag[0])]))\n",
    "\n",
    "    return newlist\n",
    "\n",
    "df['POS tagged'] = df['Cleaned Reviews'].apply(token_stop_pos)\n",
    "df.head()"
   ],
   "metadata": {
    "collapsed": false,
    "pycharm": {
     "name": "#%%\n"
    }
   }
  },
  {
   "cell_type": "code",
   "execution_count": null,
   "outputs": [],
   "source": [],
   "metadata": {
    "collapsed": false,
    "pycharm": {
     "name": "#%%\n"
    }
   }
  }
 ],
 "metadata": {
  "kernelspec": {
   "display_name": "Python 3",
   "language": "python",
   "name": "python3"
  },
  "language_info": {
   "codemirror_mode": {
    "name": "ipython",
    "version": 2
   },
   "file_extension": ".py",
   "mimetype": "text/x-python",
   "name": "python",
   "nbconvert_exporter": "python",
   "pygments_lexer": "ipython2",
   "version": "2.7.6"
  }
 },
 "nbformat": 4,
 "nbformat_minor": 0
}