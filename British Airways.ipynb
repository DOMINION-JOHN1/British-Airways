{
 "cells": [
  {
   "cell_type": "code",
   "execution_count": 48,
   "metadata": {
    "collapsed": true,
    "pycharm": {
     "name": "#%%\n"
    }
   },
   "outputs": [],
   "source": [
    "import requests\n",
    "from bs4 import BeautifulSoup\n",
    "import pandas as pd"
   ]
  },
  {
   "cell_type": "code",
   "execution_count": 49,
   "outputs": [
    {
     "name": "stdout",
     "output_type": "stream",
     "text": [
      "Scraping page 1\n",
      "   ---> 100 total reviews\n",
      "Scraping page 2\n",
      "   ---> 200 total reviews\n",
      "Scraping page 3\n",
      "   ---> 300 total reviews\n",
      "Scraping page 4\n",
      "   ---> 400 total reviews\n",
      "Scraping page 5\n",
      "   ---> 500 total reviews\n",
      "Scraping page 6\n",
      "   ---> 600 total reviews\n",
      "Scraping page 7\n",
      "   ---> 700 total reviews\n",
      "Scraping page 8\n",
      "   ---> 800 total reviews\n",
      "Scraping page 9\n",
      "   ---> 900 total reviews\n",
      "Scraping page 10\n",
      "   ---> 1000 total reviews\n"
     ]
    }
   ],
   "source": [
    "base_url = \"https://www.airlinequality.com/airline-reviews/british-airways\"\n",
    "pages = 10\n",
    "page_size = 100\n",
    "\n",
    "reviews = []\n",
    "\n",
    "# for i in range(1, pages + 1):\n",
    "for i in range(1, pages + 1):\n",
    "\n",
    "    print(f\"Scraping page {i}\")\n",
    "\n",
    "    # Create URL to collect links from paginated data\n",
    "    url = f\"{base_url}/page/{i}/?sortby=post_date%3ADesc&pagesize={page_size}\"\n",
    "\n",
    "    # Collect HTML data from this page\n",
    "    response = requests.get(url)\n",
    "\n",
    "    # Parse content\n",
    "    content = response.content\n",
    "    parsed_content = BeautifulSoup(content, 'html.parser')\n",
    "    for para in parsed_content.find_all(\"div\", {\"class\": \"text_content\"}):\n",
    "        reviews.append(para.get_text())\n",
    "\n",
    "    print(f\"   ---> {len(reviews)} total reviews\")"
   ],
   "metadata": {
    "collapsed": false,
    "pycharm": {
     "name": "#%%\n"
    }
   }
  },
  {
   "cell_type": "code",
   "execution_count": 50,
   "outputs": [
    {
     "data": {
      "text/plain": "                                             reviews\n0  Not Verified | I flew with numerous airlines, ...\n1  ✅ Trip Verified |  We were traveling as a fami...\n2  ✅ Trip Verified | Flight at 8.40am from DUB to...\n3  ✅ Trip Verified |  Terrible. I have traveled t...\n4  ✅ Trip Verified |  The customer service is ugl...",
      "text/html": "<div>\n<style scoped>\n    .dataframe tbody tr th:only-of-type {\n        vertical-align: middle;\n    }\n\n    .dataframe tbody tr th {\n        vertical-align: top;\n    }\n\n    .dataframe thead th {\n        text-align: right;\n    }\n</style>\n<table border=\"1\" class=\"dataframe\">\n  <thead>\n    <tr style=\"text-align: right;\">\n      <th></th>\n      <th>reviews</th>\n    </tr>\n  </thead>\n  <tbody>\n    <tr>\n      <th>0</th>\n      <td>Not Verified | I flew with numerous airlines, ...</td>\n    </tr>\n    <tr>\n      <th>1</th>\n      <td>✅ Trip Verified |  We were traveling as a fami...</td>\n    </tr>\n    <tr>\n      <th>2</th>\n      <td>✅ Trip Verified | Flight at 8.40am from DUB to...</td>\n    </tr>\n    <tr>\n      <th>3</th>\n      <td>✅ Trip Verified |  Terrible. I have traveled t...</td>\n    </tr>\n    <tr>\n      <th>4</th>\n      <td>✅ Trip Verified |  The customer service is ugl...</td>\n    </tr>\n  </tbody>\n</table>\n</div>"
     },
     "execution_count": 50,
     "metadata": {},
     "output_type": "execute_result"
    }
   ],
   "source": [
    "df = pd.DataFrame()\n",
    "df[\"reviews\"] = reviews\n",
    "df.head()"
   ],
   "metadata": {
    "collapsed": false,
    "pycharm": {
     "name": "#%%\n"
    }
   }
  },
  {
   "cell_type": "code",
   "execution_count": 51,
   "outputs": [
    {
     "name": "stdout",
     "output_type": "stream",
     "text": [
      "<class 'pandas.core.frame.DataFrame'>\n",
      "RangeIndex: 1000 entries, 0 to 999\n",
      "Data columns (total 1 columns):\n",
      " #   Column   Non-Null Count  Dtype \n",
      "---  ------   --------------  ----- \n",
      " 0   reviews  1000 non-null   object\n",
      "dtypes: object(1)\n",
      "memory usage: 7.9+ KB\n"
     ]
    }
   ],
   "source": [
    "df.info()"
   ],
   "metadata": {
    "collapsed": false,
    "pycharm": {
     "name": "#%%\n"
    }
   }
  },
  {
   "cell_type": "code",
   "execution_count": 57,
   "outputs": [
    {
     "data": {
      "text/plain": "            reviews  Cleaned Reviews                  POS tagged  \\\n0     Not Verified     Not Verified              [(Verified, v)]   \n1  ✅ Trip Verified    Trip Verified   [(Trip, n), (Verified, v)]   \n2  ✅ Trip Verified    Trip Verified   [(Trip, n), (Verified, v)]   \n3  ✅ Trip Verified    Trip Verified   [(Trip, n), (Verified, v)]   \n4  ✅ Trip Verified    Trip Verified   [(Trip, n), (Verified, v)]   \n\n             Lemma  \n0         Verified  \n1    Trip Verified  \n2    Trip Verified  \n3    Trip Verified  \n4    Trip Verified  ",
      "text/html": "<div>\n<style scoped>\n    .dataframe tbody tr th:only-of-type {\n        vertical-align: middle;\n    }\n\n    .dataframe tbody tr th {\n        vertical-align: top;\n    }\n\n    .dataframe thead th {\n        text-align: right;\n    }\n</style>\n<table border=\"1\" class=\"dataframe\">\n  <thead>\n    <tr style=\"text-align: right;\">\n      <th></th>\n      <th>reviews</th>\n      <th>Cleaned Reviews</th>\n      <th>POS tagged</th>\n      <th>Lemma</th>\n    </tr>\n  </thead>\n  <tbody>\n    <tr>\n      <th>0</th>\n      <td>Not Verified</td>\n      <td>Not Verified</td>\n      <td>[(Verified, v)]</td>\n      <td>Verified</td>\n    </tr>\n    <tr>\n      <th>1</th>\n      <td>✅ Trip Verified</td>\n      <td>Trip Verified</td>\n      <td>[(Trip, n), (Verified, v)]</td>\n      <td>Trip Verified</td>\n    </tr>\n    <tr>\n      <th>2</th>\n      <td>✅ Trip Verified</td>\n      <td>Trip Verified</td>\n      <td>[(Trip, n), (Verified, v)]</td>\n      <td>Trip Verified</td>\n    </tr>\n    <tr>\n      <th>3</th>\n      <td>✅ Trip Verified</td>\n      <td>Trip Verified</td>\n      <td>[(Trip, n), (Verified, v)]</td>\n      <td>Trip Verified</td>\n    </tr>\n    <tr>\n      <th>4</th>\n      <td>✅ Trip Verified</td>\n      <td>Trip Verified</td>\n      <td>[(Trip, n), (Verified, v)]</td>\n      <td>Trip Verified</td>\n    </tr>\n  </tbody>\n</table>\n</div>"
     },
     "execution_count": 57,
     "metadata": {},
     "output_type": "execute_result"
    }
   ],
   "source": [
    "df.reviews= df.reviews.str.split('|',expand=True)[0]\n",
    "df.head()"
   ],
   "metadata": {
    "collapsed": false,
    "pycharm": {
     "name": "#%%\n"
    }
   }
  },
  {
   "cell_type": "markdown",
   "source": [
    "**Text cleaning**"
   ],
   "metadata": {
    "collapsed": false,
    "pycharm": {
     "name": "#%% md\n"
    }
   }
  },
  {
   "cell_type": "code",
   "execution_count": 53,
   "outputs": [
    {
     "data": {
      "text/plain": "            reviews  Cleaned Reviews\n0     Not Verified     Not Verified \n1  ✅ Trip Verified    Trip Verified \n2  ✅ Trip Verified    Trip Verified \n3  ✅ Trip Verified    Trip Verified \n4  ✅ Trip Verified    Trip Verified ",
      "text/html": "<div>\n<style scoped>\n    .dataframe tbody tr th:only-of-type {\n        vertical-align: middle;\n    }\n\n    .dataframe tbody tr th {\n        vertical-align: top;\n    }\n\n    .dataframe thead th {\n        text-align: right;\n    }\n</style>\n<table border=\"1\" class=\"dataframe\">\n  <thead>\n    <tr style=\"text-align: right;\">\n      <th></th>\n      <th>reviews</th>\n      <th>Cleaned Reviews</th>\n    </tr>\n  </thead>\n  <tbody>\n    <tr>\n      <th>0</th>\n      <td>Not Verified</td>\n      <td>Not Verified</td>\n    </tr>\n    <tr>\n      <th>1</th>\n      <td>✅ Trip Verified</td>\n      <td>Trip Verified</td>\n    </tr>\n    <tr>\n      <th>2</th>\n      <td>✅ Trip Verified</td>\n      <td>Trip Verified</td>\n    </tr>\n    <tr>\n      <th>3</th>\n      <td>✅ Trip Verified</td>\n      <td>Trip Verified</td>\n    </tr>\n    <tr>\n      <th>4</th>\n      <td>✅ Trip Verified</td>\n      <td>Trip Verified</td>\n    </tr>\n  </tbody>\n</table>\n</div>"
     },
     "execution_count": 53,
     "metadata": {},
     "output_type": "execute_result"
    }
   ],
   "source": [
    "import re\n",
    "\n",
    "# Define a function to clean the text\n",
    "def clean(text):\n",
    "# Removes all special characters and numericals leaving the alphabets\n",
    "    text = re.sub('[^A-Za-z]+', ' ', str(text))\n",
    "    return text\n",
    "\n",
    "# Cleaning the text in the review column\n",
    "df['Cleaned Reviews'] = df['reviews'].apply(clean)\n",
    "df.head()"
   ],
   "metadata": {
    "collapsed": false,
    "pycharm": {
     "name": "#%%\n"
    }
   }
  },
  {
   "cell_type": "code",
   "execution_count": 54,
   "outputs": [
    {
     "name": "stderr",
     "output_type": "stream",
     "text": [
      "[nltk_data] Downloading package punkt to\n",
      "[nltk_data]     C:\\Users\\Admin\\AppData\\Roaming\\nltk_data...\n",
      "[nltk_data]   Package punkt is already up-to-date!\n",
      "[nltk_data] Downloading package stopwords to\n",
      "[nltk_data]     C:\\Users\\Admin\\AppData\\Roaming\\nltk_data...\n",
      "[nltk_data]   Package stopwords is already up-to-date!\n",
      "[nltk_data] Downloading package wordnet to\n",
      "[nltk_data]     C:\\Users\\Admin\\AppData\\Roaming\\nltk_data...\n",
      "[nltk_data]   Package wordnet is already up-to-date!\n"
     ]
    }
   ],
   "source": [
    "import nltk\n",
    "nltk.download('punkt')\n",
    "from nltk.tokenize import word_tokenize\n",
    "from nltk import pos_tag\n",
    "nltk.download('stopwords')\n",
    "from nltk.corpus import stopwords\n",
    "nltk.download('wordnet')\n",
    "from nltk.corpus import wordnet"
   ],
   "metadata": {
    "collapsed": false,
    "pycharm": {
     "name": "#%%\n"
    }
   }
  },
  {
   "cell_type": "code",
   "execution_count": 55,
   "outputs": [
    {
     "name": "stderr",
     "output_type": "stream",
     "text": [
      "[nltk_data] Downloading package omw-1.4 to\n",
      "[nltk_data]     C:\\Users\\Admin\\AppData\\Roaming\\nltk_data...\n",
      "[nltk_data]   Package omw-1.4 is already up-to-date!\n",
      "[nltk_data] Downloading package averaged_perceptron_tagger to\n",
      "[nltk_data]     C:\\Users\\Admin\\AppData\\Roaming\\nltk_data...\n",
      "[nltk_data]   Package averaged_perceptron_tagger is already up-to-\n",
      "[nltk_data]       date!\n"
     ]
    },
    {
     "data": {
      "text/plain": "            reviews  Cleaned Reviews                  POS tagged\n0     Not Verified     Not Verified              [(Verified, v)]\n1  ✅ Trip Verified    Trip Verified   [(Trip, n), (Verified, v)]\n2  ✅ Trip Verified    Trip Verified   [(Trip, n), (Verified, v)]\n3  ✅ Trip Verified    Trip Verified   [(Trip, n), (Verified, v)]\n4  ✅ Trip Verified    Trip Verified   [(Trip, n), (Verified, v)]",
      "text/html": "<div>\n<style scoped>\n    .dataframe tbody tr th:only-of-type {\n        vertical-align: middle;\n    }\n\n    .dataframe tbody tr th {\n        vertical-align: top;\n    }\n\n    .dataframe thead th {\n        text-align: right;\n    }\n</style>\n<table border=\"1\" class=\"dataframe\">\n  <thead>\n    <tr style=\"text-align: right;\">\n      <th></th>\n      <th>reviews</th>\n      <th>Cleaned Reviews</th>\n      <th>POS tagged</th>\n    </tr>\n  </thead>\n  <tbody>\n    <tr>\n      <th>0</th>\n      <td>Not Verified</td>\n      <td>Not Verified</td>\n      <td>[(Verified, v)]</td>\n    </tr>\n    <tr>\n      <th>1</th>\n      <td>✅ Trip Verified</td>\n      <td>Trip Verified</td>\n      <td>[(Trip, n), (Verified, v)]</td>\n    </tr>\n    <tr>\n      <th>2</th>\n      <td>✅ Trip Verified</td>\n      <td>Trip Verified</td>\n      <td>[(Trip, n), (Verified, v)]</td>\n    </tr>\n    <tr>\n      <th>3</th>\n      <td>✅ Trip Verified</td>\n      <td>Trip Verified</td>\n      <td>[(Trip, n), (Verified, v)]</td>\n    </tr>\n    <tr>\n      <th>4</th>\n      <td>✅ Trip Verified</td>\n      <td>Trip Verified</td>\n      <td>[(Trip, n), (Verified, v)]</td>\n    </tr>\n  </tbody>\n</table>\n</div>"
     },
     "execution_count": 55,
     "metadata": {},
     "output_type": "execute_result"
    }
   ],
   "source": [
    "nltk.download('omw-1.4')\n",
    "nltk.download('averaged_perceptron_tagger')\n",
    "\n",
    "# POS tagger dictionary\n",
    "pos_dict = {'J':wordnet.ADJ, 'V':wordnet.VERB, 'N':wordnet.NOUN, 'R':wordnet.ADV}\n",
    "def token_stop_pos(text):\n",
    "    tags = pos_tag(word_tokenize(text))\n",
    "    newlist = []\n",
    "    for word, tag in tags:\n",
    "        if word.lower() not in set(stopwords.words('english')):\n",
    "          newlist.append(tuple([word, pos_dict.get(tag[0])]))\n",
    "\n",
    "    return newlist\n",
    "\n",
    "df['POS tagged'] = df['Cleaned Reviews'].apply(token_stop_pos)\n",
    "df.head()"
   ],
   "metadata": {
    "collapsed": false,
    "pycharm": {
     "name": "#%%\n"
    }
   }
  },
  {
   "cell_type": "code",
   "execution_count": 56,
   "outputs": [
    {
     "data": {
      "text/plain": "            reviews  Cleaned Reviews                  POS tagged  \\\n0     Not Verified     Not Verified              [(Verified, v)]   \n1  ✅ Trip Verified    Trip Verified   [(Trip, n), (Verified, v)]   \n2  ✅ Trip Verified    Trip Verified   [(Trip, n), (Verified, v)]   \n3  ✅ Trip Verified    Trip Verified   [(Trip, n), (Verified, v)]   \n4  ✅ Trip Verified    Trip Verified   [(Trip, n), (Verified, v)]   \n\n             Lemma  \n0         Verified  \n1    Trip Verified  \n2    Trip Verified  \n3    Trip Verified  \n4    Trip Verified  ",
      "text/html": "<div>\n<style scoped>\n    .dataframe tbody tr th:only-of-type {\n        vertical-align: middle;\n    }\n\n    .dataframe tbody tr th {\n        vertical-align: top;\n    }\n\n    .dataframe thead th {\n        text-align: right;\n    }\n</style>\n<table border=\"1\" class=\"dataframe\">\n  <thead>\n    <tr style=\"text-align: right;\">\n      <th></th>\n      <th>reviews</th>\n      <th>Cleaned Reviews</th>\n      <th>POS tagged</th>\n      <th>Lemma</th>\n    </tr>\n  </thead>\n  <tbody>\n    <tr>\n      <th>0</th>\n      <td>Not Verified</td>\n      <td>Not Verified</td>\n      <td>[(Verified, v)]</td>\n      <td>Verified</td>\n    </tr>\n    <tr>\n      <th>1</th>\n      <td>✅ Trip Verified</td>\n      <td>Trip Verified</td>\n      <td>[(Trip, n), (Verified, v)]</td>\n      <td>Trip Verified</td>\n    </tr>\n    <tr>\n      <th>2</th>\n      <td>✅ Trip Verified</td>\n      <td>Trip Verified</td>\n      <td>[(Trip, n), (Verified, v)]</td>\n      <td>Trip Verified</td>\n    </tr>\n    <tr>\n      <th>3</th>\n      <td>✅ Trip Verified</td>\n      <td>Trip Verified</td>\n      <td>[(Trip, n), (Verified, v)]</td>\n      <td>Trip Verified</td>\n    </tr>\n    <tr>\n      <th>4</th>\n      <td>✅ Trip Verified</td>\n      <td>Trip Verified</td>\n      <td>[(Trip, n), (Verified, v)]</td>\n      <td>Trip Verified</td>\n    </tr>\n  </tbody>\n</table>\n</div>"
     },
     "execution_count": 56,
     "metadata": {},
     "output_type": "execute_result"
    }
   ],
   "source": [
    " ##Obtaining the stem words – Lemmatization\n",
    "\n",
    "from nltk.stem import WordNetLemmatizer\n",
    "wordnet_lemmatizer = WordNetLemmatizer()\n",
    "def lemmatize(pos_data):\n",
    "    lemma_rew = \" \"\n",
    "    for word, pos in pos_data:\n",
    "     if not pos:\n",
    "        lemma = word\n",
    "        lemma_rew = lemma_rew + \" \" + lemma\n",
    "     else:\n",
    "        lemma = wordnet_lemmatizer.lemmatize(word, pos=pos)\n",
    "        lemma_rew = lemma_rew + \" \" + lemma\n",
    "    return lemma_rew\n",
    "\n",
    "df['Lemma'] = df['POS tagged'].apply(lemmatize)\n",
    "df.head()"
   ],
   "metadata": {
    "collapsed": false,
    "pycharm": {
     "name": "#%%\n"
    }
   }
  },
  {
   "cell_type": "code",
   "execution_count": 58,
   "outputs": [
    {
     "data": {
      "text/plain": "              reviews            Lemma\n0       Not Verified          Verified\n1    ✅ Trip Verified     Trip Verified\n2    ✅ Trip Verified     Trip Verified\n3    ✅ Trip Verified     Trip Verified\n4    ✅ Trip Verified     Trip Verified\n..                ...              ...\n995  ✅ Trip Verified     Trip Verified\n996  ✅ Trip Verified     Trip Verified\n997  ✅ Trip Verified     Trip Verified\n998  ✅ Trip Verified     Trip Verified\n999  ✅ Trip Verified     Trip Verified\n\n[1000 rows x 2 columns]",
      "text/html": "<div>\n<style scoped>\n    .dataframe tbody tr th:only-of-type {\n        vertical-align: middle;\n    }\n\n    .dataframe tbody tr th {\n        vertical-align: top;\n    }\n\n    .dataframe thead th {\n        text-align: right;\n    }\n</style>\n<table border=\"1\" class=\"dataframe\">\n  <thead>\n    <tr style=\"text-align: right;\">\n      <th></th>\n      <th>reviews</th>\n      <th>Lemma</th>\n    </tr>\n  </thead>\n  <tbody>\n    <tr>\n      <th>0</th>\n      <td>Not Verified</td>\n      <td>Verified</td>\n    </tr>\n    <tr>\n      <th>1</th>\n      <td>✅ Trip Verified</td>\n      <td>Trip Verified</td>\n    </tr>\n    <tr>\n      <th>2</th>\n      <td>✅ Trip Verified</td>\n      <td>Trip Verified</td>\n    </tr>\n    <tr>\n      <th>3</th>\n      <td>✅ Trip Verified</td>\n      <td>Trip Verified</td>\n    </tr>\n    <tr>\n      <th>4</th>\n      <td>✅ Trip Verified</td>\n      <td>Trip Verified</td>\n    </tr>\n    <tr>\n      <th>...</th>\n      <td>...</td>\n      <td>...</td>\n    </tr>\n    <tr>\n      <th>995</th>\n      <td>✅ Trip Verified</td>\n      <td>Trip Verified</td>\n    </tr>\n    <tr>\n      <th>996</th>\n      <td>✅ Trip Verified</td>\n      <td>Trip Verified</td>\n    </tr>\n    <tr>\n      <th>997</th>\n      <td>✅ Trip Verified</td>\n      <td>Trip Verified</td>\n    </tr>\n    <tr>\n      <th>998</th>\n      <td>✅ Trip Verified</td>\n      <td>Trip Verified</td>\n    </tr>\n    <tr>\n      <th>999</th>\n      <td>✅ Trip Verified</td>\n      <td>Trip Verified</td>\n    </tr>\n  </tbody>\n</table>\n<p>1000 rows × 2 columns</p>\n</div>"
     },
     "execution_count": 58,
     "metadata": {},
     "output_type": "execute_result"
    }
   ],
   "source": [
    "df[['reviews','Lemma']]"
   ],
   "metadata": {
    "collapsed": false,
    "pycharm": {
     "name": "#%%\n"
    }
   }
  },
  {
   "cell_type": "markdown",
   "source": [
    "***Sentiment Analysis using VADER***\n"
   ],
   "metadata": {
    "collapsed": false,
    "pycharm": {
     "name": "#%% md\n"
    }
   }
  },
  {
   "cell_type": "code",
   "execution_count": 59,
   "outputs": [
    {
     "name": "stdout",
     "output_type": "stream",
     "text": [
      "Collecting vaderSentiment\n",
      "  Downloading vaderSentiment-3.3.2-py2.py3-none-any.whl (125 kB)\n",
      "Requirement already satisfied: requests in c:\\users\\admin\\anaconda3\\lib\\site-packages (from vaderSentiment) (2.24.0)\n",
      "Requirement already satisfied: chardet<4,>=3.0.2 in c:\\users\\admin\\anaconda3\\lib\\site-packages (from requests->vaderSentiment) (3.0.4)\n",
      "Requirement already satisfied: idna<3,>=2.5 in c:\\users\\admin\\anaconda3\\lib\\site-packages (from requests->vaderSentiment) (2.10)\n",
      "Requirement already satisfied: certifi>=2017.4.17 in c:\\users\\admin\\anaconda3\\lib\\site-packages (from requests->vaderSentiment) (2020.6.20)\n",
      "Requirement already satisfied: urllib3!=1.25.0,!=1.25.1,<1.26,>=1.21.1 in c:\\users\\admin\\anaconda3\\lib\\site-packages (from requests->vaderSentiment) (1.25.11)\n",
      "Installing collected packages: vaderSentiment\n",
      "Successfully installed vaderSentiment-3.3.2\n"
     ]
    }
   ],
   "source": [
    "!pip install vaderSentiment"
   ],
   "metadata": {
    "collapsed": false,
    "pycharm": {
     "name": "#%%\n"
    }
   }
  },
  {
   "cell_type": "code",
   "execution_count": 60,
   "outputs": [
    {
     "data": {
      "text/plain": "            reviews  Cleaned Reviews                  POS tagged  \\\n0     Not Verified     Not Verified              [(Verified, v)]   \n1  ✅ Trip Verified    Trip Verified   [(Trip, n), (Verified, v)]   \n2  ✅ Trip Verified    Trip Verified   [(Trip, n), (Verified, v)]   \n3  ✅ Trip Verified    Trip Verified   [(Trip, n), (Verified, v)]   \n4  ✅ Trip Verified    Trip Verified   [(Trip, n), (Verified, v)]   \n\n             Lemma  Sentiment Analysis  \n0         Verified        0.0  Neutral  \n1    Trip Verified        0.0  Neutral  \n2    Trip Verified        0.0  Neutral  \n3    Trip Verified        0.0  Neutral  \n4    Trip Verified        0.0  Neutral  ",
      "text/html": "<div>\n<style scoped>\n    .dataframe tbody tr th:only-of-type {\n        vertical-align: middle;\n    }\n\n    .dataframe tbody tr th {\n        vertical-align: top;\n    }\n\n    .dataframe thead th {\n        text-align: right;\n    }\n</style>\n<table border=\"1\" class=\"dataframe\">\n  <thead>\n    <tr style=\"text-align: right;\">\n      <th></th>\n      <th>reviews</th>\n      <th>Cleaned Reviews</th>\n      <th>POS tagged</th>\n      <th>Lemma</th>\n      <th>Sentiment</th>\n      <th>Analysis</th>\n    </tr>\n  </thead>\n  <tbody>\n    <tr>\n      <th>0</th>\n      <td>Not Verified</td>\n      <td>Not Verified</td>\n      <td>[(Verified, v)]</td>\n      <td>Verified</td>\n      <td>0.0</td>\n      <td>Neutral</td>\n    </tr>\n    <tr>\n      <th>1</th>\n      <td>✅ Trip Verified</td>\n      <td>Trip Verified</td>\n      <td>[(Trip, n), (Verified, v)]</td>\n      <td>Trip Verified</td>\n      <td>0.0</td>\n      <td>Neutral</td>\n    </tr>\n    <tr>\n      <th>2</th>\n      <td>✅ Trip Verified</td>\n      <td>Trip Verified</td>\n      <td>[(Trip, n), (Verified, v)]</td>\n      <td>Trip Verified</td>\n      <td>0.0</td>\n      <td>Neutral</td>\n    </tr>\n    <tr>\n      <th>3</th>\n      <td>✅ Trip Verified</td>\n      <td>Trip Verified</td>\n      <td>[(Trip, n), (Verified, v)]</td>\n      <td>Trip Verified</td>\n      <td>0.0</td>\n      <td>Neutral</td>\n    </tr>\n    <tr>\n      <th>4</th>\n      <td>✅ Trip Verified</td>\n      <td>Trip Verified</td>\n      <td>[(Trip, n), (Verified, v)]</td>\n      <td>Trip Verified</td>\n      <td>0.0</td>\n      <td>Neutral</td>\n    </tr>\n  </tbody>\n</table>\n</div>"
     },
     "execution_count": 60,
     "metadata": {},
     "output_type": "execute_result"
    }
   ],
   "source": [
    "from vaderSentiment.vaderSentiment import SentimentIntensityAnalyzer\n",
    "analyzer = SentimentIntensityAnalyzer()\n",
    "\n",
    "\n",
    "# function to calculate vader sentiment\n",
    "def vadersentimentanalysis(review):\n",
    "    vs = analyzer.polarity_scores(review)\n",
    "    return vs['compound']\n",
    "\n",
    "df['Sentiment'] = df['Lemma'].apply(vadersentimentanalysis)\n",
    "\n",
    "# function to analyse\n",
    "def vader_analysis(compound):\n",
    "    if compound >= 0.5:\n",
    "        return 'Positive'\n",
    "    elif compound < 0 :\n",
    "        return 'Negative'\n",
    "    else:\n",
    "        return 'Neutral'\n",
    "df['Analysis'] = df['Sentiment'].apply(vader_analysis)\n",
    "df.head()"
   ],
   "metadata": {
    "collapsed": false,
    "pycharm": {
     "name": "#%%\n"
    }
   }
  },
  {
   "cell_type": "code",
   "execution_count": 61,
   "outputs": [
    {
     "data": {
      "text/plain": "Neutral    1000\nName: Analysis, dtype: int64"
     },
     "execution_count": 61,
     "metadata": {},
     "output_type": "execute_result"
    }
   ],
   "source": [
    "vader_counts = df['Analysis'].value_counts()\n",
    "vader_counts"
   ],
   "metadata": {
    "collapsed": false,
    "pycharm": {
     "name": "#%%\n"
    }
   }
  },
  {
   "cell_type": "code",
   "execution_count": null,
   "outputs": [],
   "source": [],
   "metadata": {
    "collapsed": false,
    "pycharm": {
     "name": "#%%\n"
    }
   }
  }
 ],
 "metadata": {
  "kernelspec": {
   "display_name": "Python 3",
   "language": "python",
   "name": "python3"
  },
  "language_info": {
   "codemirror_mode": {
    "name": "ipython",
    "version": 2
   },
   "file_extension": ".py",
   "mimetype": "text/x-python",
   "name": "python",
   "nbconvert_exporter": "python",
   "pygments_lexer": "ipython2",
   "version": "2.7.6"
  }
 },
 "nbformat": 4,
 "nbformat_minor": 0
}