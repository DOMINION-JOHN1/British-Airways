{
 "cells": [
  {
   "cell_type": "code",
   "execution_count": 163,
   "metadata": {
    "collapsed": true,
    "pycharm": {
     "name": "#%%\n"
    }
   },
   "outputs": [],
   "source": [
    "import requests\n",
    "from bs4 import BeautifulSoup\n",
    "import pandas as pd"
   ]
  },
  {
   "cell_type": "code",
   "execution_count": 164,
   "outputs": [
    {
     "name": "stdout",
     "output_type": "stream",
     "text": [
      "Scraping page 1\n",
      "   ---> 100 total reviews\n",
      "Scraping page 2\n",
      "   ---> 200 total reviews\n",
      "Scraping page 3\n",
      "   ---> 300 total reviews\n",
      "Scraping page 4\n",
      "   ---> 400 total reviews\n",
      "Scraping page 5\n",
      "   ---> 500 total reviews\n",
      "Scraping page 6\n",
      "   ---> 600 total reviews\n",
      "Scraping page 7\n",
      "   ---> 700 total reviews\n",
      "Scraping page 8\n",
      "   ---> 800 total reviews\n",
      "Scraping page 9\n",
      "   ---> 900 total reviews\n",
      "Scraping page 10\n",
      "   ---> 1000 total reviews\n"
     ]
    }
   ],
   "source": [
    "base_url = \"https://www.airlinequality.com/airline-reviews/british-airways\"\n",
    "pages = 10\n",
    "page_size = 100\n",
    "\n",
    "reviews = []\n",
    "\n",
    "# for i in range(1, pages + 1):\n",
    "for i in range(1, pages + 1):\n",
    "\n",
    "    print(f\"Scraping page {i}\")\n",
    "\n",
    "    # Create URL to collect links from paginated data\n",
    "    url = f\"{base_url}/page/{i}/?sortby=post_date%3ADesc&pagesize={page_size}\"\n",
    "\n",
    "    # Collect HTML data from this page\n",
    "    response = requests.get(url)\n",
    "\n",
    "    # Parse content\n",
    "    content = response.content\n",
    "    parsed_content = BeautifulSoup(content, 'html.parser')\n",
    "    for para in parsed_content.find_all(\"div\", {\"class\": \"text_content\"}):\n",
    "        reviews.append(para.get_text())\n",
    "\n",
    "    print(f\"   ---> {len(reviews)} total reviews\")"
   ],
   "metadata": {
    "collapsed": false,
    "pycharm": {
     "name": "#%%\n"
    }
   }
  },
  {
   "cell_type": "markdown",
   "source": [],
   "metadata": {
    "collapsed": false,
    "pycharm": {
     "name": "#%% md\n"
    }
   }
  },
  {
   "cell_type": "code",
   "execution_count": 174,
   "outputs": [
    {
     "data": {
      "text/plain": "                                             reviews\n0  Not Verified | I flew with numerous airlines, ...\n1  ✅ Trip Verified |  We were traveling as a fami...\n2  ✅ Trip Verified | Flight at 8.40am from DUB to...\n3  ✅ Trip Verified |  Terrible. I have traveled t...\n4  ✅ Trip Verified |  The customer service is ugl...",
      "text/html": "<div>\n<style scoped>\n    .dataframe tbody tr th:only-of-type {\n        vertical-align: middle;\n    }\n\n    .dataframe tbody tr th {\n        vertical-align: top;\n    }\n\n    .dataframe thead th {\n        text-align: right;\n    }\n</style>\n<table border=\"1\" class=\"dataframe\">\n  <thead>\n    <tr style=\"text-align: right;\">\n      <th></th>\n      <th>reviews</th>\n    </tr>\n  </thead>\n  <tbody>\n    <tr>\n      <th>0</th>\n      <td>Not Verified | I flew with numerous airlines, ...</td>\n    </tr>\n    <tr>\n      <th>1</th>\n      <td>✅ Trip Verified |  We were traveling as a fami...</td>\n    </tr>\n    <tr>\n      <th>2</th>\n      <td>✅ Trip Verified | Flight at 8.40am from DUB to...</td>\n    </tr>\n    <tr>\n      <th>3</th>\n      <td>✅ Trip Verified |  Terrible. I have traveled t...</td>\n    </tr>\n    <tr>\n      <th>4</th>\n      <td>✅ Trip Verified |  The customer service is ugl...</td>\n    </tr>\n  </tbody>\n</table>\n</div>"
     },
     "execution_count": 174,
     "metadata": {},
     "output_type": "execute_result"
    }
   ],
   "source": [
    "df = pd.DataFrame()\n",
    "df[\"reviews\"] = reviews\n",
    "df.head()"
   ],
   "metadata": {
    "collapsed": false,
    "pycharm": {
     "name": "#%%\n"
    }
   }
  },
  {
   "cell_type": "code",
   "execution_count": 175,
   "outputs": [
    {
     "data": {
      "text/plain": "                                             reviews\n0  Not Verified | I flew with numerous airlines, ...\n1  ✅ Trip Verified |  We were traveling as a fami...\n2  ✅ Trip Verified | Flight at 8.40am from DUB to...\n3  ✅ Trip Verified |  Terrible. I have traveled t...\n4  ✅ Trip Verified |  The customer service is ugl...",
      "text/html": "<div>\n<style scoped>\n    .dataframe tbody tr th:only-of-type {\n        vertical-align: middle;\n    }\n\n    .dataframe tbody tr th {\n        vertical-align: top;\n    }\n\n    .dataframe thead th {\n        text-align: right;\n    }\n</style>\n<table border=\"1\" class=\"dataframe\">\n  <thead>\n    <tr style=\"text-align: right;\">\n      <th></th>\n      <th>reviews</th>\n    </tr>\n  </thead>\n  <tbody>\n    <tr>\n      <th>0</th>\n      <td>Not Verified | I flew with numerous airlines, ...</td>\n    </tr>\n    <tr>\n      <th>1</th>\n      <td>✅ Trip Verified |  We were traveling as a fami...</td>\n    </tr>\n    <tr>\n      <th>2</th>\n      <td>✅ Trip Verified | Flight at 8.40am from DUB to...</td>\n    </tr>\n    <tr>\n      <th>3</th>\n      <td>✅ Trip Verified |  Terrible. I have traveled t...</td>\n    </tr>\n    <tr>\n      <th>4</th>\n      <td>✅ Trip Verified |  The customer service is ugl...</td>\n    </tr>\n  </tbody>\n</table>\n</div>"
     },
     "execution_count": 175,
     "metadata": {},
     "output_type": "execute_result"
    }
   ],
   "source": [
    "\n",
    "df.to_csv('review.csv')\n",
    "british = pd.read_csv('review')\n",
    "british.head()"
   ],
   "metadata": {
    "collapsed": false,
    "pycharm": {
     "name": "#%%\n"
    }
   }
  },
  {
   "cell_type": "code",
   "execution_count": 173,
   "outputs": [
    {
     "data": {
      "text/plain": "            reviews\n0     Not Verified \n1  ✅ Trip Verified \n2  ✅ Trip Verified \n3  ✅ Trip Verified \n4  ✅ Trip Verified ",
      "text/html": "<div>\n<style scoped>\n    .dataframe tbody tr th:only-of-type {\n        vertical-align: middle;\n    }\n\n    .dataframe tbody tr th {\n        vertical-align: top;\n    }\n\n    .dataframe thead th {\n        text-align: right;\n    }\n</style>\n<table border=\"1\" class=\"dataframe\">\n  <thead>\n    <tr style=\"text-align: right;\">\n      <th></th>\n      <th>reviews</th>\n    </tr>\n  </thead>\n  <tbody>\n    <tr>\n      <th>0</th>\n      <td>Not Verified</td>\n    </tr>\n    <tr>\n      <th>1</th>\n      <td>✅ Trip Verified</td>\n    </tr>\n    <tr>\n      <th>2</th>\n      <td>✅ Trip Verified</td>\n    </tr>\n    <tr>\n      <th>3</th>\n      <td>✅ Trip Verified</td>\n    </tr>\n    <tr>\n      <th>4</th>\n      <td>✅ Trip Verified</td>\n    </tr>\n  </tbody>\n</table>\n</div>"
     },
     "execution_count": 173,
     "metadata": {},
     "output_type": "execute_result"
    }
   ],
   "source": [
    "british.reviews= british.reviews.str.split('|',expand=True)[0]\n",
    "british.head()"
   ],
   "metadata": {
    "collapsed": false,
    "pycharm": {
     "name": "#%%\n"
    }
   }
  },
  {
   "cell_type": "markdown",
   "source": [
    "**Text cleaning**"
   ],
   "metadata": {
    "collapsed": false,
    "pycharm": {
     "name": "#%% md\n"
    }
   }
  },
  {
   "cell_type": "code",
   "execution_count": 176,
   "outputs": [
    {
     "data": {
      "text/plain": "                                             reviews  \\\n0  Not Verified | I flew with numerous airlines, ...   \n1  ✅ Trip Verified |  We were traveling as a fami...   \n2  ✅ Trip Verified | Flight at 8.40am from DUB to...   \n3  ✅ Trip Verified |  Terrible. I have traveled t...   \n4  ✅ Trip Verified |  The customer service is ugl...   \n\n                                     Cleaned Reviews  \n0  Not Verified I flew with numerous airlines but...  \n1   Trip Verified We were traveling as a family p...  \n2   Trip Verified Flight at am from DUB to LCY ca...  \n3   Trip Verified Terrible I have traveled twice ...  \n4   Trip Verified The customer service is ugly Tr...  ",
      "text/html": "<div>\n<style scoped>\n    .dataframe tbody tr th:only-of-type {\n        vertical-align: middle;\n    }\n\n    .dataframe tbody tr th {\n        vertical-align: top;\n    }\n\n    .dataframe thead th {\n        text-align: right;\n    }\n</style>\n<table border=\"1\" class=\"dataframe\">\n  <thead>\n    <tr style=\"text-align: right;\">\n      <th></th>\n      <th>reviews</th>\n      <th>Cleaned Reviews</th>\n    </tr>\n  </thead>\n  <tbody>\n    <tr>\n      <th>0</th>\n      <td>Not Verified | I flew with numerous airlines, ...</td>\n      <td>Not Verified I flew with numerous airlines but...</td>\n    </tr>\n    <tr>\n      <th>1</th>\n      <td>✅ Trip Verified |  We were traveling as a fami...</td>\n      <td>Trip Verified We were traveling as a family p...</td>\n    </tr>\n    <tr>\n      <th>2</th>\n      <td>✅ Trip Verified | Flight at 8.40am from DUB to...</td>\n      <td>Trip Verified Flight at am from DUB to LCY ca...</td>\n    </tr>\n    <tr>\n      <th>3</th>\n      <td>✅ Trip Verified |  Terrible. I have traveled t...</td>\n      <td>Trip Verified Terrible I have traveled twice ...</td>\n    </tr>\n    <tr>\n      <th>4</th>\n      <td>✅ Trip Verified |  The customer service is ugl...</td>\n      <td>Trip Verified The customer service is ugly Tr...</td>\n    </tr>\n  </tbody>\n</table>\n</div>"
     },
     "execution_count": 176,
     "metadata": {},
     "output_type": "execute_result"
    }
   ],
   "source": [
    "import re\n",
    "\n",
    "# Define a function to clean the text\n",
    "def clean(text):\n",
    "# Removes all special characters and numericals leaving the alphabets\n",
    "    text = re.sub('[^A-Za-z]+', ' ', str(text))\n",
    "    return text\n",
    "\n",
    "# Cleaning the text in the review column\n",
    "british['Cleaned Reviews'] = british['reviews'].apply(clean)\n",
    "british.head()"
   ],
   "metadata": {
    "collapsed": false,
    "pycharm": {
     "name": "#%%\n"
    }
   }
  },
  {
   "cell_type": "code",
   "execution_count": 177,
   "outputs": [
    {
     "name": "stderr",
     "output_type": "stream",
     "text": [
      "[nltk_data] Downloading package punkt to\n",
      "[nltk_data]     C:\\Users\\Admin\\AppData\\Roaming\\nltk_data...\n",
      "[nltk_data]   Package punkt is already up-to-date!\n",
      "[nltk_data] Downloading package stopwords to\n",
      "[nltk_data]     C:\\Users\\Admin\\AppData\\Roaming\\nltk_data...\n",
      "[nltk_data]   Package stopwords is already up-to-date!\n",
      "[nltk_data] Downloading package wordnet to\n",
      "[nltk_data]     C:\\Users\\Admin\\AppData\\Roaming\\nltk_data...\n",
      "[nltk_data]   Package wordnet is already up-to-date!\n"
     ]
    }
   ],
   "source": [
    "import nltk\n",
    "nltk.download('punkt')\n",
    "from nltk.tokenize import word_tokenize\n",
    "from nltk import pos_tag\n",
    "nltk.download('stopwords')\n",
    "from nltk.corpus import stopwords\n",
    "nltk.download('wordnet')\n",
    "from nltk.corpus import wordnet"
   ],
   "metadata": {
    "collapsed": false,
    "pycharm": {
     "name": "#%%\n"
    }
   }
  },
  {
   "cell_type": "code",
   "execution_count": 180,
   "outputs": [
    {
     "name": "stderr",
     "output_type": "stream",
     "text": [
      "[nltk_data] Downloading package omw-1.4 to\n",
      "[nltk_data]     C:\\Users\\Admin\\AppData\\Roaming\\nltk_data...\n",
      "[nltk_data]   Package omw-1.4 is already up-to-date!\n",
      "[nltk_data] Downloading package averaged_perceptron_tagger to\n",
      "[nltk_data]     C:\\Users\\Admin\\AppData\\Roaming\\nltk_data...\n",
      "[nltk_data]   Package averaged_perceptron_tagger is already up-to-\n",
      "[nltk_data]       date!\n"
     ]
    },
    {
     "data": {
      "text/plain": "                                             reviews  \\\n0  Not Verified | I flew with numerous airlines, ...   \n1  ✅ Trip Verified |  We were traveling as a fami...   \n2  ✅ Trip Verified | Flight at 8.40am from DUB to...   \n3  ✅ Trip Verified |  Terrible. I have traveled t...   \n4  ✅ Trip Verified |  The customer service is ugl...   \n\n                                     Cleaned Reviews  \\\n0  Not Verified I flew with numerous airlines but...   \n1   Trip Verified We were traveling as a family p...   \n2   Trip Verified Flight at am from DUB to LCY ca...   \n3   Trip Verified Terrible I have traveled twice ...   \n4   Trip Verified The customer service is ugly Tr...   \n\n                                          POS tagged  \n0  [(Verified, n), (flew, v), (numerous, a), (air...  \n1  [(Trip, n), (Verified, n), (traveling, v), (fa...  \n2  [(Trip, n), (Verified, n), (Flight, n), (DUB, ...  \n3  [(Trip, n), (Verified, n), (Terrible, n), (tra...  \n4  [(Trip, n), (Verified, v), (customer, n), (ser...  ",
      "text/html": "<div>\n<style scoped>\n    .dataframe tbody tr th:only-of-type {\n        vertical-align: middle;\n    }\n\n    .dataframe tbody tr th {\n        vertical-align: top;\n    }\n\n    .dataframe thead th {\n        text-align: right;\n    }\n</style>\n<table border=\"1\" class=\"dataframe\">\n  <thead>\n    <tr style=\"text-align: right;\">\n      <th></th>\n      <th>reviews</th>\n      <th>Cleaned Reviews</th>\n      <th>POS tagged</th>\n    </tr>\n  </thead>\n  <tbody>\n    <tr>\n      <th>0</th>\n      <td>Not Verified | I flew with numerous airlines, ...</td>\n      <td>Not Verified I flew with numerous airlines but...</td>\n      <td>[(Verified, n), (flew, v), (numerous, a), (air...</td>\n    </tr>\n    <tr>\n      <th>1</th>\n      <td>✅ Trip Verified |  We were traveling as a fami...</td>\n      <td>Trip Verified We were traveling as a family p...</td>\n      <td>[(Trip, n), (Verified, n), (traveling, v), (fa...</td>\n    </tr>\n    <tr>\n      <th>2</th>\n      <td>✅ Trip Verified | Flight at 8.40am from DUB to...</td>\n      <td>Trip Verified Flight at am from DUB to LCY ca...</td>\n      <td>[(Trip, n), (Verified, n), (Flight, n), (DUB, ...</td>\n    </tr>\n    <tr>\n      <th>3</th>\n      <td>✅ Trip Verified |  Terrible. I have traveled t...</td>\n      <td>Trip Verified Terrible I have traveled twice ...</td>\n      <td>[(Trip, n), (Verified, n), (Terrible, n), (tra...</td>\n    </tr>\n    <tr>\n      <th>4</th>\n      <td>✅ Trip Verified |  The customer service is ugl...</td>\n      <td>Trip Verified The customer service is ugly Tr...</td>\n      <td>[(Trip, n), (Verified, v), (customer, n), (ser...</td>\n    </tr>\n  </tbody>\n</table>\n</div>"
     },
     "execution_count": 180,
     "metadata": {},
     "output_type": "execute_result"
    }
   ],
   "source": [
    "nltk.download('omw-1.4')\n",
    "nltk.download('averaged_perceptron_tagger')\n",
    "\n",
    "# POS tagger dictionary\n",
    "pos_dict = {'J':wordnet.ADJ, 'V':wordnet.VERB, 'N':wordnet.NOUN, 'R':wordnet.ADV}\n",
    "def token_stop_pos(text):\n",
    "    tags = pos_tag(word_tokenize(text))\n",
    "    newlist = []\n",
    "    for word, tag in tags:\n",
    "        if word.lower() not in set(stopwords.words('english')):\n",
    "          newlist.append(tuple([word, pos_dict.get(tag[0])]))\n",
    "\n",
    "    return newlist\n",
    "\n",
    "british['POS tagged'] = british['Cleaned Reviews'].apply(token_stop_pos)\n",
    "british.head()"
   ],
   "metadata": {
    "collapsed": false,
    "pycharm": {
     "name": "#%%\n"
    }
   }
  },
  {
   "cell_type": "code",
   "execution_count": 181,
   "outputs": [
    {
     "data": {
      "text/plain": "                                             reviews  \\\n0  Not Verified | I flew with numerous airlines, ...   \n1  ✅ Trip Verified |  We were traveling as a fami...   \n2  ✅ Trip Verified | Flight at 8.40am from DUB to...   \n3  ✅ Trip Verified |  Terrible. I have traveled t...   \n4  ✅ Trip Verified |  The customer service is ugl...   \n\n                                     Cleaned Reviews  \\\n0  Not Verified I flew with numerous airlines but...   \n1   Trip Verified We were traveling as a family p...   \n2   Trip Verified Flight at am from DUB to LCY ca...   \n3   Trip Verified Terrible I have traveled twice ...   \n4   Trip Verified The customer service is ugly Tr...   \n\n                                          POS tagged  \\\n0  [(Verified, n), (flew, v), (numerous, a), (air...   \n1  [(Trip, n), (Verified, n), (traveling, v), (fa...   \n2  [(Trip, n), (Verified, n), (Flight, n), (DUB, ...   \n3  [(Trip, n), (Verified, n), (Terrible, n), (tra...   \n4  [(Trip, n), (Verified, v), (customer, n), (ser...   \n\n                                               Lemma  \n0    Verified fly numerous airline get ta admit B...  \n1    Trip Verified travel family people accident ...  \n2    Trip Verified Flight DUB LCY cancel pm night...  \n3    Trip Verified Terrible travel twice year via...  \n4    Trip Verified customer service ugly Tried ca...  ",
      "text/html": "<div>\n<style scoped>\n    .dataframe tbody tr th:only-of-type {\n        vertical-align: middle;\n    }\n\n    .dataframe tbody tr th {\n        vertical-align: top;\n    }\n\n    .dataframe thead th {\n        text-align: right;\n    }\n</style>\n<table border=\"1\" class=\"dataframe\">\n  <thead>\n    <tr style=\"text-align: right;\">\n      <th></th>\n      <th>reviews</th>\n      <th>Cleaned Reviews</th>\n      <th>POS tagged</th>\n      <th>Lemma</th>\n    </tr>\n  </thead>\n  <tbody>\n    <tr>\n      <th>0</th>\n      <td>Not Verified | I flew with numerous airlines, ...</td>\n      <td>Not Verified I flew with numerous airlines but...</td>\n      <td>[(Verified, n), (flew, v), (numerous, a), (air...</td>\n      <td>Verified fly numerous airline get ta admit B...</td>\n    </tr>\n    <tr>\n      <th>1</th>\n      <td>✅ Trip Verified |  We were traveling as a fami...</td>\n      <td>Trip Verified We were traveling as a family p...</td>\n      <td>[(Trip, n), (Verified, n), (traveling, v), (fa...</td>\n      <td>Trip Verified travel family people accident ...</td>\n    </tr>\n    <tr>\n      <th>2</th>\n      <td>✅ Trip Verified | Flight at 8.40am from DUB to...</td>\n      <td>Trip Verified Flight at am from DUB to LCY ca...</td>\n      <td>[(Trip, n), (Verified, n), (Flight, n), (DUB, ...</td>\n      <td>Trip Verified Flight DUB LCY cancel pm night...</td>\n    </tr>\n    <tr>\n      <th>3</th>\n      <td>✅ Trip Verified |  Terrible. I have traveled t...</td>\n      <td>Trip Verified Terrible I have traveled twice ...</td>\n      <td>[(Trip, n), (Verified, n), (Terrible, n), (tra...</td>\n      <td>Trip Verified Terrible travel twice year via...</td>\n    </tr>\n    <tr>\n      <th>4</th>\n      <td>✅ Trip Verified |  The customer service is ugl...</td>\n      <td>Trip Verified The customer service is ugly Tr...</td>\n      <td>[(Trip, n), (Verified, v), (customer, n), (ser...</td>\n      <td>Trip Verified customer service ugly Tried ca...</td>\n    </tr>\n  </tbody>\n</table>\n</div>"
     },
     "execution_count": 181,
     "metadata": {},
     "output_type": "execute_result"
    }
   ],
   "source": [
    " ##Obtaining the stem words – Lemmatization\n",
    "\n",
    "from nltk.stem import WordNetLemmatizer\n",
    "wordnet_lemmatizer = WordNetLemmatizer()\n",
    "def lemmatize(pos_data):\n",
    "    lemma_rew = \" \"\n",
    "    for word, pos in pos_data:\n",
    "     if not pos:\n",
    "        lemma = word\n",
    "        lemma_rew = lemma_rew + \" \" + lemma\n",
    "     else:\n",
    "        lemma = wordnet_lemmatizer.lemmatize(word, pos=pos)\n",
    "        lemma_rew = lemma_rew + \" \" + lemma\n",
    "    return lemma_rew\n",
    "\n",
    "british['Lemma'] = british['POS tagged'].apply(lemmatize)\n",
    "british.head()"
   ],
   "metadata": {
    "collapsed": false,
    "pycharm": {
     "name": "#%%\n"
    }
   }
  },
  {
   "cell_type": "code",
   "execution_count": 182,
   "outputs": [
    {
     "data": {
      "text/plain": "                                               reviews  \\\n0    Not Verified | I flew with numerous airlines, ...   \n1    ✅ Trip Verified |  We were traveling as a fami...   \n2    ✅ Trip Verified | Flight at 8.40am from DUB to...   \n3    ✅ Trip Verified |  Terrible. I have traveled t...   \n4    ✅ Trip Verified |  The customer service is ugl...   \n..                                                 ...   \n995  ✅ Trip Verified |  \\r\\nNew York to Nairobi via...   \n996  ✅ Trip Verified |  Istanbul to London Heathrow...   \n997  ✅ Trip Verified |  Bad service and attitude al...   \n998  ✅ Trip Verified |  London to Santiago de Chile...   \n999  ✅ Trip Verified |  Flew a now ageing B777 flig...   \n\n                                                 Lemma  \n0      Verified fly numerous airline get ta admit B...  \n1      Trip Verified travel family people accident ...  \n2      Trip Verified Flight DUB LCY cancel pm night...  \n3      Trip Verified Terrible travel twice year via...  \n4      Trip Verified customer service ugly Tried ca...  \n..                                                 ...  \n995    Trip Verified New York Nairobi via London Fl...  \n996    Trip Verified Istanbul London Heathrow plane...  \n997    Trip Verified Bad service attitude round fia...  \n998    Trip Verified London Santiago de Chile fly p...  \n999    Trip Verified Flew age B flight BA Seattle P...  \n\n[1000 rows x 2 columns]",
      "text/html": "<div>\n<style scoped>\n    .dataframe tbody tr th:only-of-type {\n        vertical-align: middle;\n    }\n\n    .dataframe tbody tr th {\n        vertical-align: top;\n    }\n\n    .dataframe thead th {\n        text-align: right;\n    }\n</style>\n<table border=\"1\" class=\"dataframe\">\n  <thead>\n    <tr style=\"text-align: right;\">\n      <th></th>\n      <th>reviews</th>\n      <th>Lemma</th>\n    </tr>\n  </thead>\n  <tbody>\n    <tr>\n      <th>0</th>\n      <td>Not Verified | I flew with numerous airlines, ...</td>\n      <td>Verified fly numerous airline get ta admit B...</td>\n    </tr>\n    <tr>\n      <th>1</th>\n      <td>✅ Trip Verified |  We were traveling as a fami...</td>\n      <td>Trip Verified travel family people accident ...</td>\n    </tr>\n    <tr>\n      <th>2</th>\n      <td>✅ Trip Verified | Flight at 8.40am from DUB to...</td>\n      <td>Trip Verified Flight DUB LCY cancel pm night...</td>\n    </tr>\n    <tr>\n      <th>3</th>\n      <td>✅ Trip Verified |  Terrible. I have traveled t...</td>\n      <td>Trip Verified Terrible travel twice year via...</td>\n    </tr>\n    <tr>\n      <th>4</th>\n      <td>✅ Trip Verified |  The customer service is ugl...</td>\n      <td>Trip Verified customer service ugly Tried ca...</td>\n    </tr>\n    <tr>\n      <th>...</th>\n      <td>...</td>\n      <td>...</td>\n    </tr>\n    <tr>\n      <th>995</th>\n      <td>✅ Trip Verified |  \\r\\nNew York to Nairobi via...</td>\n      <td>Trip Verified New York Nairobi via London Fl...</td>\n    </tr>\n    <tr>\n      <th>996</th>\n      <td>✅ Trip Verified |  Istanbul to London Heathrow...</td>\n      <td>Trip Verified Istanbul London Heathrow plane...</td>\n    </tr>\n    <tr>\n      <th>997</th>\n      <td>✅ Trip Verified |  Bad service and attitude al...</td>\n      <td>Trip Verified Bad service attitude round fia...</td>\n    </tr>\n    <tr>\n      <th>998</th>\n      <td>✅ Trip Verified |  London to Santiago de Chile...</td>\n      <td>Trip Verified London Santiago de Chile fly p...</td>\n    </tr>\n    <tr>\n      <th>999</th>\n      <td>✅ Trip Verified |  Flew a now ageing B777 flig...</td>\n      <td>Trip Verified Flew age B flight BA Seattle P...</td>\n    </tr>\n  </tbody>\n</table>\n<p>1000 rows × 2 columns</p>\n</div>"
     },
     "execution_count": 182,
     "metadata": {},
     "output_type": "execute_result"
    }
   ],
   "source": [
    "british[['reviews','Lemma']]"
   ],
   "metadata": {
    "collapsed": false,
    "pycharm": {
     "name": "#%%\n"
    }
   }
  },
  {
   "cell_type": "markdown",
   "source": [
    "***Sentiment Analysis using VADER***\n"
   ],
   "metadata": {
    "collapsed": false,
    "pycharm": {
     "name": "#%% md\n"
    }
   }
  },
  {
   "cell_type": "code",
   "execution_count": null,
   "outputs": [],
   "source": [
    "!pip install vaderSentiment"
   ],
   "metadata": {
    "collapsed": false,
    "pycharm": {
     "name": "#%%\n"
    }
   }
  },
  {
   "cell_type": "code",
   "execution_count": 183,
   "outputs": [
    {
     "data": {
      "text/plain": "                                             reviews  \\\n0  Not Verified | I flew with numerous airlines, ...   \n1  ✅ Trip Verified |  We were traveling as a fami...   \n2  ✅ Trip Verified | Flight at 8.40am from DUB to...   \n3  ✅ Trip Verified |  Terrible. I have traveled t...   \n4  ✅ Trip Verified |  The customer service is ugl...   \n\n                                     Cleaned Reviews  \\\n0  Not Verified I flew with numerous airlines but...   \n1   Trip Verified We were traveling as a family p...   \n2   Trip Verified Flight at am from DUB to LCY ca...   \n3   Trip Verified Terrible I have traveled twice ...   \n4   Trip Verified The customer service is ugly Tr...   \n\n                                          POS tagged  \\\n0  [(Verified, n), (flew, v), (numerous, a), (air...   \n1  [(Trip, n), (Verified, n), (traveling, v), (fa...   \n2  [(Trip, n), (Verified, n), (Flight, n), (DUB, ...   \n3  [(Trip, n), (Verified, n), (Terrible, n), (tra...   \n4  [(Trip, n), (Verified, v), (customer, n), (ser...   \n\n                                               Lemma  Sentiment  Analysis  \n0    Verified fly numerous airline get ta admit B...     0.4215   Neutral  \n1    Trip Verified travel family people accident ...     0.5267  Positive  \n2    Trip Verified Flight DUB LCY cancel pm night...    -0.8468  Negative  \n3    Trip Verified Terrible travel twice year via...    -0.8860  Negative  \n4    Trip Verified customer service ugly Tried ca...    -0.7184  Negative  ",
      "text/html": "<div>\n<style scoped>\n    .dataframe tbody tr th:only-of-type {\n        vertical-align: middle;\n    }\n\n    .dataframe tbody tr th {\n        vertical-align: top;\n    }\n\n    .dataframe thead th {\n        text-align: right;\n    }\n</style>\n<table border=\"1\" class=\"dataframe\">\n  <thead>\n    <tr style=\"text-align: right;\">\n      <th></th>\n      <th>reviews</th>\n      <th>Cleaned Reviews</th>\n      <th>POS tagged</th>\n      <th>Lemma</th>\n      <th>Sentiment</th>\n      <th>Analysis</th>\n    </tr>\n  </thead>\n  <tbody>\n    <tr>\n      <th>0</th>\n      <td>Not Verified | I flew with numerous airlines, ...</td>\n      <td>Not Verified I flew with numerous airlines but...</td>\n      <td>[(Verified, n), (flew, v), (numerous, a), (air...</td>\n      <td>Verified fly numerous airline get ta admit B...</td>\n      <td>0.4215</td>\n      <td>Neutral</td>\n    </tr>\n    <tr>\n      <th>1</th>\n      <td>✅ Trip Verified |  We were traveling as a fami...</td>\n      <td>Trip Verified We were traveling as a family p...</td>\n      <td>[(Trip, n), (Verified, n), (traveling, v), (fa...</td>\n      <td>Trip Verified travel family people accident ...</td>\n      <td>0.5267</td>\n      <td>Positive</td>\n    </tr>\n    <tr>\n      <th>2</th>\n      <td>✅ Trip Verified | Flight at 8.40am from DUB to...</td>\n      <td>Trip Verified Flight at am from DUB to LCY ca...</td>\n      <td>[(Trip, n), (Verified, n), (Flight, n), (DUB, ...</td>\n      <td>Trip Verified Flight DUB LCY cancel pm night...</td>\n      <td>-0.8468</td>\n      <td>Negative</td>\n    </tr>\n    <tr>\n      <th>3</th>\n      <td>✅ Trip Verified |  Terrible. I have traveled t...</td>\n      <td>Trip Verified Terrible I have traveled twice ...</td>\n      <td>[(Trip, n), (Verified, n), (Terrible, n), (tra...</td>\n      <td>Trip Verified Terrible travel twice year via...</td>\n      <td>-0.8860</td>\n      <td>Negative</td>\n    </tr>\n    <tr>\n      <th>4</th>\n      <td>✅ Trip Verified |  The customer service is ugl...</td>\n      <td>Trip Verified The customer service is ugly Tr...</td>\n      <td>[(Trip, n), (Verified, v), (customer, n), (ser...</td>\n      <td>Trip Verified customer service ugly Tried ca...</td>\n      <td>-0.7184</td>\n      <td>Negative</td>\n    </tr>\n  </tbody>\n</table>\n</div>"
     },
     "execution_count": 183,
     "metadata": {},
     "output_type": "execute_result"
    }
   ],
   "source": [
    "from vaderSentiment.vaderSentiment import SentimentIntensityAnalyzer\n",
    "analyzer = SentimentIntensityAnalyzer()\n",
    "\n",
    "\n",
    "# function to calculate vader sentiment\n",
    "def vadersentimentanalysis(review):\n",
    "    vs = analyzer.polarity_scores(review)\n",
    "    return vs['compound']\n",
    "\n",
    "british['Sentiment'] = british['Lemma'].apply(vadersentimentanalysis)\n",
    "\n",
    "# function to analyse\n",
    "def vader_analysis(compound):\n",
    "    if compound >= 0.5:\n",
    "        return 'Positive'\n",
    "    elif compound < 0 :\n",
    "        return 'Negative'\n",
    "    else:\n",
    "        return 'Neutral'\n",
    "british['Analysis'] = british['Sentiment'].apply(vader_analysis)\n",
    "british.head()"
   ],
   "metadata": {
    "collapsed": false,
    "pycharm": {
     "name": "#%%\n"
    }
   }
  },
  {
   "cell_type": "code",
   "execution_count": null,
   "outputs": [],
   "source": [
    "vader_counts = british['Analysis'].value_counts()\n",
    "vader_counts"
   ],
   "metadata": {
    "collapsed": false,
    "pycharm": {
     "name": "#%%\n"
    }
   }
  },
  {
   "cell_type": "code",
   "execution_count": null,
   "outputs": [],
   "source": [],
   "metadata": {
    "collapsed": false,
    "pycharm": {
     "name": "#%%\n"
    }
   }
  }
 ],
 "metadata": {
  "kernelspec": {
   "display_name": "Python 3",
   "language": "python",
   "name": "python3"
  },
  "language_info": {
   "codemirror_mode": {
    "name": "ipython",
    "version": 2
   },
   "file_extension": ".py",
   "mimetype": "text/x-python",
   "name": "python",
   "nbconvert_exporter": "python",
   "pygments_lexer": "ipython2",
   "version": "2.7.6"
  }
 },
 "nbformat": 4,
 "nbformat_minor": 0
}